{
 "cells": [
  {
   "cell_type": "markdown",
   "id": "0449ed49",
   "metadata": {},
   "source": [
    "LendingClub is an American lending company from San Francisco, that acts as a broker to match investors with would-be borrowers. Lending Club provides the \"bridge\" between investors and borrowers."
   ]
  },
  {
   "cell_type": "markdown",
   "id": "9abfcb69",
   "metadata": {},
   "source": [
    "My hypothesis is based on the assumption that there are common signs indicating the probability of default, which can be used to take measures such as denial of credit, reduction of the loan amount, lending (risky applicants) at a higher interest rate, etcAnd with the help of these signs, you can create a model that would predict the future of the loan at the stage of approving the application to the borrower.\n",
    "And with the help of these signs, you can create a model that would predict the future of the loan at the stage of approving the application to the borrower."
   ]
  },
  {
   "cell_type": "markdown",
   "id": "eab040f8",
   "metadata": {},
   "source": [
    "The first task to achieve the goal is Business Understanding and Data Understanding. It is necessary to prepare and clear the data. And then building a model that could predict the fate of the loan, namely whether it will be fully paid or not."
   ]
  },
  {
   "cell_type": "markdown",
   "id": "ef62aa5c",
   "metadata": {},
   "source": [
    "The data file Lending_club contains the loan and borrower information for loans initiated from 2007 to 2011 in six states, California, New York, Florida, Texas, New Jersey and Illinois. The data dictionary file Data_dictionary contains descriptions of all the columns in the data file"
   ]
  },
  {
   "cell_type": "code",
   "execution_count": 1,
   "id": "8206259d",
   "metadata": {},
   "outputs": [],
   "source": [
    "%matplotlib inline\n",
    "\n",
    "import numpy as np\n",
    "import pandas as pd\n",
    "import seaborn as sns\n",
    "import matplotlib.pyplot as plt"
   ]
  },
  {
   "cell_type": "code",
   "execution_count": 2,
   "id": "7d4b4b86",
   "metadata": {},
   "outputs": [
    {
     "data": {
      "text/html": [
       "<div>\n",
       "<style scoped>\n",
       "    .dataframe tbody tr th:only-of-type {\n",
       "        vertical-align: middle;\n",
       "    }\n",
       "\n",
       "    .dataframe tbody tr th {\n",
       "        vertical-align: top;\n",
       "    }\n",
       "\n",
       "    .dataframe thead th {\n",
       "        text-align: right;\n",
       "    }\n",
       "</style>\n",
       "<table border=\"1\" class=\"dataframe\">\n",
       "  <thead>\n",
       "    <tr style=\"text-align: right;\">\n",
       "      <th></th>\n",
       "      <th>loan_amnt</th>\n",
       "      <th>funded_amnt</th>\n",
       "      <th>funded_amnt_inv</th>\n",
       "      <th>term</th>\n",
       "      <th>int_rate</th>\n",
       "      <th>installment</th>\n",
       "      <th>grade</th>\n",
       "      <th>sub_grade</th>\n",
       "      <th>emp_title</th>\n",
       "      <th>emp_length</th>\n",
       "      <th>...</th>\n",
       "      <th>application_type</th>\n",
       "      <th>acc_now_delinq</th>\n",
       "      <th>chargeoff_within_12_mths</th>\n",
       "      <th>delinq_amnt</th>\n",
       "      <th>pub_rec_bankruptcies</th>\n",
       "      <th>tax_liens</th>\n",
       "      <th>hardship_flag</th>\n",
       "      <th>disbursement_method</th>\n",
       "      <th>debt_settlement_flag</th>\n",
       "      <th>debt_settlement_flag_date</th>\n",
       "    </tr>\n",
       "  </thead>\n",
       "  <tbody>\n",
       "    <tr>\n",
       "      <th>0</th>\n",
       "      <td>2400</td>\n",
       "      <td>2400</td>\n",
       "      <td>2400.0</td>\n",
       "      <td>36 months</td>\n",
       "      <td>15.96</td>\n",
       "      <td>84.33</td>\n",
       "      <td>C</td>\n",
       "      <td>C5</td>\n",
       "      <td>NaN</td>\n",
       "      <td>10+ years</td>\n",
       "      <td>...</td>\n",
       "      <td>Individual</td>\n",
       "      <td>0.0</td>\n",
       "      <td>0.0</td>\n",
       "      <td>0.0</td>\n",
       "      <td>0.0</td>\n",
       "      <td>0.0</td>\n",
       "      <td>N</td>\n",
       "      <td>Cash</td>\n",
       "      <td>N</td>\n",
       "      <td>NaN</td>\n",
       "    </tr>\n",
       "    <tr>\n",
       "      <th>1</th>\n",
       "      <td>10000</td>\n",
       "      <td>10000</td>\n",
       "      <td>10000.0</td>\n",
       "      <td>36 months</td>\n",
       "      <td>13.49</td>\n",
       "      <td>339.31</td>\n",
       "      <td>C</td>\n",
       "      <td>C1</td>\n",
       "      <td>AIR RESOURCES BOARD</td>\n",
       "      <td>10+ years</td>\n",
       "      <td>...</td>\n",
       "      <td>Individual</td>\n",
       "      <td>0.0</td>\n",
       "      <td>0.0</td>\n",
       "      <td>0.0</td>\n",
       "      <td>0.0</td>\n",
       "      <td>0.0</td>\n",
       "      <td>N</td>\n",
       "      <td>Cash</td>\n",
       "      <td>N</td>\n",
       "      <td>NaN</td>\n",
       "    </tr>\n",
       "    <tr>\n",
       "      <th>2</th>\n",
       "      <td>3000</td>\n",
       "      <td>3000</td>\n",
       "      <td>3000.0</td>\n",
       "      <td>36 months</td>\n",
       "      <td>18.64</td>\n",
       "      <td>109.43</td>\n",
       "      <td>E</td>\n",
       "      <td>E1</td>\n",
       "      <td>MKC Accounting</td>\n",
       "      <td>9 years</td>\n",
       "      <td>...</td>\n",
       "      <td>Individual</td>\n",
       "      <td>0.0</td>\n",
       "      <td>0.0</td>\n",
       "      <td>0.0</td>\n",
       "      <td>0.0</td>\n",
       "      <td>0.0</td>\n",
       "      <td>N</td>\n",
       "      <td>Cash</td>\n",
       "      <td>N</td>\n",
       "      <td>NaN</td>\n",
       "    </tr>\n",
       "    <tr>\n",
       "      <th>3</th>\n",
       "      <td>5600</td>\n",
       "      <td>5600</td>\n",
       "      <td>5600.0</td>\n",
       "      <td>60 months</td>\n",
       "      <td>21.28</td>\n",
       "      <td>152.39</td>\n",
       "      <td>F</td>\n",
       "      <td>F2</td>\n",
       "      <td>NaN</td>\n",
       "      <td>4 years</td>\n",
       "      <td>...</td>\n",
       "      <td>Individual</td>\n",
       "      <td>0.0</td>\n",
       "      <td>0.0</td>\n",
       "      <td>0.0</td>\n",
       "      <td>0.0</td>\n",
       "      <td>0.0</td>\n",
       "      <td>N</td>\n",
       "      <td>Cash</td>\n",
       "      <td>N</td>\n",
       "      <td>NaN</td>\n",
       "    </tr>\n",
       "    <tr>\n",
       "      <th>4</th>\n",
       "      <td>5375</td>\n",
       "      <td>5375</td>\n",
       "      <td>5350.0</td>\n",
       "      <td>60 months</td>\n",
       "      <td>12.69</td>\n",
       "      <td>121.45</td>\n",
       "      <td>B</td>\n",
       "      <td>B5</td>\n",
       "      <td>Starbucks</td>\n",
       "      <td>&lt; 1 year</td>\n",
       "      <td>...</td>\n",
       "      <td>Individual</td>\n",
       "      <td>0.0</td>\n",
       "      <td>0.0</td>\n",
       "      <td>0.0</td>\n",
       "      <td>0.0</td>\n",
       "      <td>0.0</td>\n",
       "      <td>N</td>\n",
       "      <td>Cash</td>\n",
       "      <td>N</td>\n",
       "      <td>NaN</td>\n",
       "    </tr>\n",
       "  </tbody>\n",
       "</table>\n",
       "<p>5 rows × 58 columns</p>\n",
       "</div>"
      ],
      "text/plain": [
       "   loan_amnt  funded_amnt  funded_amnt_inv       term  int_rate  installment  \\\n",
       "0       2400         2400           2400.0  36 months     15.96        84.33   \n",
       "1      10000        10000          10000.0  36 months     13.49       339.31   \n",
       "2       3000         3000           3000.0  36 months     18.64       109.43   \n",
       "3       5600         5600           5600.0  60 months     21.28       152.39   \n",
       "4       5375         5375           5350.0  60 months     12.69       121.45   \n",
       "\n",
       "  grade sub_grade            emp_title emp_length  ... application_type  \\\n",
       "0     C        C5                  NaN  10+ years  ...       Individual   \n",
       "1     C        C1  AIR RESOURCES BOARD  10+ years  ...       Individual   \n",
       "2     E        E1      MKC Accounting     9 years  ...       Individual   \n",
       "3     F        F2                  NaN    4 years  ...       Individual   \n",
       "4     B        B5            Starbucks   < 1 year  ...       Individual   \n",
       "\n",
       "   acc_now_delinq chargeoff_within_12_mths delinq_amnt pub_rec_bankruptcies  \\\n",
       "0             0.0                      0.0         0.0                  0.0   \n",
       "1             0.0                      0.0         0.0                  0.0   \n",
       "2             0.0                      0.0         0.0                  0.0   \n",
       "3             0.0                      0.0         0.0                  0.0   \n",
       "4             0.0                      0.0         0.0                  0.0   \n",
       "\n",
       "  tax_liens hardship_flag disbursement_method debt_settlement_flag  \\\n",
       "0       0.0             N                Cash                    N   \n",
       "1       0.0             N                Cash                    N   \n",
       "2       0.0             N                Cash                    N   \n",
       "3       0.0             N                Cash                    N   \n",
       "4       0.0             N                Cash                    N   \n",
       "\n",
       "  debt_settlement_flag_date  \n",
       "0                       NaN  \n",
       "1                       NaN  \n",
       "2                       NaN  \n",
       "3                       NaN  \n",
       "4                       NaN  \n",
       "\n",
       "[5 rows x 58 columns]"
      ]
     },
     "execution_count": 2,
     "metadata": {},
     "output_type": "execute_result"
    }
   ],
   "source": [
    "loan_df = pd.read_csv('lending_club_2007_2011_6_states.csv')\n",
    "loan_df.head()"
   ]
  },
  {
   "cell_type": "markdown",
   "id": "d76412da",
   "metadata": {},
   "source": [
    " 1.Business Understanding and Data Understanding"
   ]
  },
  {
   "cell_type": "code",
   "execution_count": 7,
   "id": "130ac2c3",
   "metadata": {},
   "outputs": [],
   "source": [
    "dc=pd.read_csv('data_dictionary.csv')\n",
    "#descriptions of all the columns in the data file"
   ]
  },
  {
   "cell_type": "code",
   "execution_count": 8,
   "id": "b426fca7",
   "metadata": {},
   "outputs": [
    {
     "data": {
      "text/html": [
       "<div>\n",
       "<style scoped>\n",
       "    .dataframe tbody tr th:only-of-type {\n",
       "        vertical-align: middle;\n",
       "    }\n",
       "\n",
       "    .dataframe tbody tr th {\n",
       "        vertical-align: top;\n",
       "    }\n",
       "\n",
       "    .dataframe thead th {\n",
       "        text-align: right;\n",
       "    }\n",
       "</style>\n",
       "<table border=\"1\" class=\"dataframe\">\n",
       "  <thead>\n",
       "    <tr style=\"text-align: right;\">\n",
       "      <th></th>\n",
       "      <th>ColumnName</th>\n",
       "      <th>Description</th>\n",
       "    </tr>\n",
       "  </thead>\n",
       "  <tbody>\n",
       "    <tr>\n",
       "      <th>0</th>\n",
       "      <td>acc_now_delinq</td>\n",
       "      <td>The number of accounts on which the borrower i...</td>\n",
       "    </tr>\n",
       "    <tr>\n",
       "      <th>1</th>\n",
       "      <td>addr_state</td>\n",
       "      <td>The state provided by the borrower in the loan...</td>\n",
       "    </tr>\n",
       "    <tr>\n",
       "      <th>2</th>\n",
       "      <td>annual_inc</td>\n",
       "      <td>The self-reported annual income provided by th...</td>\n",
       "    </tr>\n",
       "    <tr>\n",
       "      <th>3</th>\n",
       "      <td>application_type</td>\n",
       "      <td>Indicates whether the loan is an individual ap...</td>\n",
       "    </tr>\n",
       "    <tr>\n",
       "      <th>4</th>\n",
       "      <td>chargeoff_within_12_mths</td>\n",
       "      <td>Number of charge-offs within 12 months</td>\n",
       "    </tr>\n",
       "    <tr>\n",
       "      <th>5</th>\n",
       "      <td>collection_recovery_fee</td>\n",
       "      <td>post charge off collection fee</td>\n",
       "    </tr>\n",
       "    <tr>\n",
       "      <th>6</th>\n",
       "      <td>collections_12_mths_ex_med</td>\n",
       "      <td>Number of collections in 12 months excluding m...</td>\n",
       "    </tr>\n",
       "    <tr>\n",
       "      <th>7</th>\n",
       "      <td>debt_settlement_flag</td>\n",
       "      <td>Flags whether or not the borrower, who has cha...</td>\n",
       "    </tr>\n",
       "    <tr>\n",
       "      <th>8</th>\n",
       "      <td>debt_settlement_flag_date</td>\n",
       "      <td>The most recent date that the Debt_Settlement_...</td>\n",
       "    </tr>\n",
       "    <tr>\n",
       "      <th>9</th>\n",
       "      <td>delinq_2yrs</td>\n",
       "      <td>The number of 30+ days past-due incidences of ...</td>\n",
       "    </tr>\n",
       "    <tr>\n",
       "      <th>10</th>\n",
       "      <td>delinq_amnt</td>\n",
       "      <td>The past-due amount owed for the accounts on w...</td>\n",
       "    </tr>\n",
       "    <tr>\n",
       "      <th>11</th>\n",
       "      <td>disbursement_method</td>\n",
       "      <td>The method by which the borrower receives thei...</td>\n",
       "    </tr>\n",
       "    <tr>\n",
       "      <th>12</th>\n",
       "      <td>dti</td>\n",
       "      <td>A ratio calculated using the borrower’s total ...</td>\n",
       "    </tr>\n",
       "    <tr>\n",
       "      <th>13</th>\n",
       "      <td>earliest_cr_line</td>\n",
       "      <td>The month the borrower's earliest reported cre...</td>\n",
       "    </tr>\n",
       "    <tr>\n",
       "      <th>14</th>\n",
       "      <td>emp_length</td>\n",
       "      <td>Employment length in years. Possible values ar...</td>\n",
       "    </tr>\n",
       "    <tr>\n",
       "      <th>15</th>\n",
       "      <td>emp_title</td>\n",
       "      <td>The job title supplied by the Borrower when ap...</td>\n",
       "    </tr>\n",
       "    <tr>\n",
       "      <th>16</th>\n",
       "      <td>funded_amnt</td>\n",
       "      <td>The total amount committed to that loan at tha...</td>\n",
       "    </tr>\n",
       "    <tr>\n",
       "      <th>17</th>\n",
       "      <td>funded_amnt_inv</td>\n",
       "      <td>The total amount committed by investors for th...</td>\n",
       "    </tr>\n",
       "    <tr>\n",
       "      <th>18</th>\n",
       "      <td>grade</td>\n",
       "      <td>LC assigned loan grade</td>\n",
       "    </tr>\n",
       "    <tr>\n",
       "      <th>19</th>\n",
       "      <td>hardship_flag</td>\n",
       "      <td>Flags whether or not the borrower is on a hard...</td>\n",
       "    </tr>\n",
       "    <tr>\n",
       "      <th>20</th>\n",
       "      <td>home_ownership</td>\n",
       "      <td>The home ownership status provided by the borr...</td>\n",
       "    </tr>\n",
       "    <tr>\n",
       "      <th>21</th>\n",
       "      <td>initial_list_status</td>\n",
       "      <td>The initial listing status of the loan. Possib...</td>\n",
       "    </tr>\n",
       "    <tr>\n",
       "      <th>22</th>\n",
       "      <td>inq_last_6mths</td>\n",
       "      <td>The number of inquiries in past 6 months (excl...</td>\n",
       "    </tr>\n",
       "    <tr>\n",
       "      <th>23</th>\n",
       "      <td>installment</td>\n",
       "      <td>The monthly payment owed by the borrower if th...</td>\n",
       "    </tr>\n",
       "    <tr>\n",
       "      <th>24</th>\n",
       "      <td>int_rate</td>\n",
       "      <td>Interest Rate on the loan</td>\n",
       "    </tr>\n",
       "    <tr>\n",
       "      <th>25</th>\n",
       "      <td>issue_d</td>\n",
       "      <td>The month which the loan was funded</td>\n",
       "    </tr>\n",
       "    <tr>\n",
       "      <th>26</th>\n",
       "      <td>last_credit_pull_d</td>\n",
       "      <td>The most recent month LC pulled credit for thi...</td>\n",
       "    </tr>\n",
       "    <tr>\n",
       "      <th>27</th>\n",
       "      <td>last_pymnt_amnt</td>\n",
       "      <td>Last total payment amount received</td>\n",
       "    </tr>\n",
       "    <tr>\n",
       "      <th>28</th>\n",
       "      <td>last_pymnt_d</td>\n",
       "      <td>Last month payment was received</td>\n",
       "    </tr>\n",
       "    <tr>\n",
       "      <th>29</th>\n",
       "      <td>loan_amnt</td>\n",
       "      <td>The listed amount of the loan applied for by t...</td>\n",
       "    </tr>\n",
       "    <tr>\n",
       "      <th>30</th>\n",
       "      <td>loan_status</td>\n",
       "      <td>Current status of the loan</td>\n",
       "    </tr>\n",
       "    <tr>\n",
       "      <th>31</th>\n",
       "      <td>mths_since_last_delinq</td>\n",
       "      <td>The number of months since the borrower's last...</td>\n",
       "    </tr>\n",
       "    <tr>\n",
       "      <th>32</th>\n",
       "      <td>mths_since_last_major_derog</td>\n",
       "      <td>Months since most recent 90-day or worse rating</td>\n",
       "    </tr>\n",
       "    <tr>\n",
       "      <th>33</th>\n",
       "      <td>mths_since_last_record</td>\n",
       "      <td>The number of months since the last public rec...</td>\n",
       "    </tr>\n",
       "    <tr>\n",
       "      <th>34</th>\n",
       "      <td>next_pymnt_d</td>\n",
       "      <td>Next scheduled payment date</td>\n",
       "    </tr>\n",
       "    <tr>\n",
       "      <th>35</th>\n",
       "      <td>open_acc</td>\n",
       "      <td>The number of open credit lines in the borrowe...</td>\n",
       "    </tr>\n",
       "    <tr>\n",
       "      <th>36</th>\n",
       "      <td>out_prncp</td>\n",
       "      <td>Remaining outstanding principal for total amou...</td>\n",
       "    </tr>\n",
       "    <tr>\n",
       "      <th>37</th>\n",
       "      <td>out_prncp_inv</td>\n",
       "      <td>Remaining outstanding principal for portion of...</td>\n",
       "    </tr>\n",
       "    <tr>\n",
       "      <th>38</th>\n",
       "      <td>policy_code</td>\n",
       "      <td>publicly available policy_code=1\\nnew products...</td>\n",
       "    </tr>\n",
       "    <tr>\n",
       "      <th>39</th>\n",
       "      <td>pub_rec</td>\n",
       "      <td>Number of derogatory public records</td>\n",
       "    </tr>\n",
       "    <tr>\n",
       "      <th>40</th>\n",
       "      <td>pub_rec_bankruptcies</td>\n",
       "      <td>Number of public record bankruptcies</td>\n",
       "    </tr>\n",
       "    <tr>\n",
       "      <th>41</th>\n",
       "      <td>purpose</td>\n",
       "      <td>A category provided by the borrower for the lo...</td>\n",
       "    </tr>\n",
       "    <tr>\n",
       "      <th>42</th>\n",
       "      <td>pymnt_plan</td>\n",
       "      <td>Indicates if a payment plan has been put in pl...</td>\n",
       "    </tr>\n",
       "    <tr>\n",
       "      <th>43</th>\n",
       "      <td>recoveries</td>\n",
       "      <td>post charge off gross recovery</td>\n",
       "    </tr>\n",
       "    <tr>\n",
       "      <th>44</th>\n",
       "      <td>revol_bal</td>\n",
       "      <td>Total credit revolving balance</td>\n",
       "    </tr>\n",
       "    <tr>\n",
       "      <th>45</th>\n",
       "      <td>revol_util</td>\n",
       "      <td>Revolving line utilization rate, or the amount...</td>\n",
       "    </tr>\n",
       "    <tr>\n",
       "      <th>46</th>\n",
       "      <td>sub_grade</td>\n",
       "      <td>LC assigned loan subgrade</td>\n",
       "    </tr>\n",
       "    <tr>\n",
       "      <th>47</th>\n",
       "      <td>tax_liens</td>\n",
       "      <td>Number of tax liens</td>\n",
       "    </tr>\n",
       "    <tr>\n",
       "      <th>48</th>\n",
       "      <td>term</td>\n",
       "      <td>The number of payments on the loan. Values are...</td>\n",
       "    </tr>\n",
       "    <tr>\n",
       "      <th>49</th>\n",
       "      <td>title</td>\n",
       "      <td>The loan title provided by the borrower</td>\n",
       "    </tr>\n",
       "    <tr>\n",
       "      <th>50</th>\n",
       "      <td>total_acc</td>\n",
       "      <td>The total number of credit lines currently in ...</td>\n",
       "    </tr>\n",
       "    <tr>\n",
       "      <th>51</th>\n",
       "      <td>total_pymnt</td>\n",
       "      <td>Payments received to date for total amount funded</td>\n",
       "    </tr>\n",
       "    <tr>\n",
       "      <th>52</th>\n",
       "      <td>total_pymnt_inv</td>\n",
       "      <td>Payments received to date for portion of total...</td>\n",
       "    </tr>\n",
       "    <tr>\n",
       "      <th>53</th>\n",
       "      <td>total_rec_int</td>\n",
       "      <td>Interest received to date</td>\n",
       "    </tr>\n",
       "    <tr>\n",
       "      <th>54</th>\n",
       "      <td>total_rec_late_fee</td>\n",
       "      <td>Late fees received to date</td>\n",
       "    </tr>\n",
       "    <tr>\n",
       "      <th>55</th>\n",
       "      <td>total_rec_prncp</td>\n",
       "      <td>Principal received to date</td>\n",
       "    </tr>\n",
       "    <tr>\n",
       "      <th>56</th>\n",
       "      <td>verification_status</td>\n",
       "      <td>Indicates if income was verified by LC, not ve...</td>\n",
       "    </tr>\n",
       "    <tr>\n",
       "      <th>57</th>\n",
       "      <td>zip_code</td>\n",
       "      <td>The first 3 numbers of the zip code provided b...</td>\n",
       "    </tr>\n",
       "  </tbody>\n",
       "</table>\n",
       "</div>"
      ],
      "text/plain": [
       "                     ColumnName  \\\n",
       "0                acc_now_delinq   \n",
       "1                    addr_state   \n",
       "2                    annual_inc   \n",
       "3              application_type   \n",
       "4      chargeoff_within_12_mths   \n",
       "5       collection_recovery_fee   \n",
       "6    collections_12_mths_ex_med   \n",
       "7          debt_settlement_flag   \n",
       "8     debt_settlement_flag_date   \n",
       "9                   delinq_2yrs   \n",
       "10                  delinq_amnt   \n",
       "11          disbursement_method   \n",
       "12                          dti   \n",
       "13             earliest_cr_line   \n",
       "14                   emp_length   \n",
       "15                    emp_title   \n",
       "16                  funded_amnt   \n",
       "17              funded_amnt_inv   \n",
       "18                        grade   \n",
       "19                hardship_flag   \n",
       "20               home_ownership   \n",
       "21          initial_list_status   \n",
       "22               inq_last_6mths   \n",
       "23                  installment   \n",
       "24                     int_rate   \n",
       "25                      issue_d   \n",
       "26           last_credit_pull_d   \n",
       "27              last_pymnt_amnt   \n",
       "28                 last_pymnt_d   \n",
       "29                    loan_amnt   \n",
       "30                  loan_status   \n",
       "31       mths_since_last_delinq   \n",
       "32  mths_since_last_major_derog   \n",
       "33       mths_since_last_record   \n",
       "34                 next_pymnt_d   \n",
       "35                     open_acc   \n",
       "36                    out_prncp   \n",
       "37                out_prncp_inv   \n",
       "38                  policy_code   \n",
       "39                      pub_rec   \n",
       "40         pub_rec_bankruptcies   \n",
       "41                      purpose   \n",
       "42                   pymnt_plan   \n",
       "43                   recoveries   \n",
       "44                    revol_bal   \n",
       "45                   revol_util   \n",
       "46                    sub_grade   \n",
       "47                    tax_liens   \n",
       "48                         term   \n",
       "49                        title   \n",
       "50                    total_acc   \n",
       "51                  total_pymnt   \n",
       "52              total_pymnt_inv   \n",
       "53                total_rec_int   \n",
       "54           total_rec_late_fee   \n",
       "55              total_rec_prncp   \n",
       "56          verification_status   \n",
       "57                     zip_code   \n",
       "\n",
       "                                          Description  \n",
       "0   The number of accounts on which the borrower i...  \n",
       "1   The state provided by the borrower in the loan...  \n",
       "2   The self-reported annual income provided by th...  \n",
       "3   Indicates whether the loan is an individual ap...  \n",
       "4              Number of charge-offs within 12 months  \n",
       "5                      post charge off collection fee  \n",
       "6   Number of collections in 12 months excluding m...  \n",
       "7   Flags whether or not the borrower, who has cha...  \n",
       "8   The most recent date that the Debt_Settlement_...  \n",
       "9   The number of 30+ days past-due incidences of ...  \n",
       "10  The past-due amount owed for the accounts on w...  \n",
       "11  The method by which the borrower receives thei...  \n",
       "12  A ratio calculated using the borrower’s total ...  \n",
       "13  The month the borrower's earliest reported cre...  \n",
       "14  Employment length in years. Possible values ar...  \n",
       "15  The job title supplied by the Borrower when ap...  \n",
       "16  The total amount committed to that loan at tha...  \n",
       "17  The total amount committed by investors for th...  \n",
       "18                             LC assigned loan grade  \n",
       "19  Flags whether or not the borrower is on a hard...  \n",
       "20  The home ownership status provided by the borr...  \n",
       "21  The initial listing status of the loan. Possib...  \n",
       "22  The number of inquiries in past 6 months (excl...  \n",
       "23  The monthly payment owed by the borrower if th...  \n",
       "24                          Interest Rate on the loan  \n",
       "25                The month which the loan was funded  \n",
       "26  The most recent month LC pulled credit for thi...  \n",
       "27                 Last total payment amount received  \n",
       "28                    Last month payment was received  \n",
       "29  The listed amount of the loan applied for by t...  \n",
       "30                         Current status of the loan  \n",
       "31  The number of months since the borrower's last...  \n",
       "32    Months since most recent 90-day or worse rating  \n",
       "33  The number of months since the last public rec...  \n",
       "34                        Next scheduled payment date  \n",
       "35  The number of open credit lines in the borrowe...  \n",
       "36  Remaining outstanding principal for total amou...  \n",
       "37  Remaining outstanding principal for portion of...  \n",
       "38  publicly available policy_code=1\\nnew products...  \n",
       "39                Number of derogatory public records  \n",
       "40               Number of public record bankruptcies  \n",
       "41  A category provided by the borrower for the lo...  \n",
       "42  Indicates if a payment plan has been put in pl...  \n",
       "43                     post charge off gross recovery  \n",
       "44                     Total credit revolving balance  \n",
       "45  Revolving line utilization rate, or the amount...  \n",
       "46                          LC assigned loan subgrade  \n",
       "47                                Number of tax liens  \n",
       "48  The number of payments on the loan. Values are...  \n",
       "49            The loan title provided by the borrower  \n",
       "50  The total number of credit lines currently in ...  \n",
       "51  Payments received to date for total amount funded  \n",
       "52  Payments received to date for portion of total...  \n",
       "53                          Interest received to date  \n",
       "54                         Late fees received to date  \n",
       "55                         Principal received to date  \n",
       "56  Indicates if income was verified by LC, not ve...  \n",
       "57  The first 3 numbers of the zip code provided b...  "
      ]
     },
     "execution_count": 8,
     "metadata": {},
     "output_type": "execute_result"
    }
   ],
   "source": [
    "dc"
   ]
  },
  {
   "cell_type": "code",
   "execution_count": 9,
   "id": "04537bad",
   "metadata": {},
   "outputs": [
    {
     "data": {
      "text/plain": [
       "(19908, 58)"
      ]
     },
     "execution_count": 9,
     "metadata": {},
     "output_type": "execute_result"
    }
   ],
   "source": [
    "loan_df.shape\n",
    "# Dataset have 58 columns about 20.000 loans."
   ]
  },
  {
   "cell_type": "code",
   "execution_count": 10,
   "id": "fb622399",
   "metadata": {},
   "outputs": [
    {
     "data": {
      "text/plain": [
       "array(['IL', 'CA', 'TX', 'FL', 'NY', 'NJ'], dtype=object)"
      ]
     },
     "execution_count": 10,
     "metadata": {},
     "output_type": "execute_result"
    }
   ],
   "source": [
    "loan_df.addr_state.unique()\n",
    "#info about louans in the 6 states"
   ]
  },
  {
   "cell_type": "code",
   "execution_count": 11,
   "id": "025283f4",
   "metadata": {},
   "outputs": [
    {
     "data": {
      "text/plain": [
       "array(['36 months', '60 months'], dtype=object)"
      ]
     },
     "execution_count": 11,
     "metadata": {},
     "output_type": "execute_result"
    }
   ],
   "source": [
    "loan_df.term.unique()\n",
    "#There are two different terms, 36 months and 60 months."
   ]
  },
  {
   "cell_type": "code",
   "execution_count": 12,
   "id": "5a12fb8e",
   "metadata": {},
   "outputs": [
    {
     "data": {
      "text/plain": [
       "36 months    14852\n",
       "60 months     5056\n",
       "Name: term, dtype: int64"
      ]
     },
     "execution_count": 12,
     "metadata": {},
     "output_type": "execute_result"
    }
   ],
   "source": [
    "loan_df.term.value_counts()\n",
    "#There are about three times more 36 months loans than 60 months loans in the dataset."
   ]
  },
  {
   "cell_type": "code",
   "execution_count": 13,
   "id": "323284ad",
   "metadata": {},
   "outputs": [
    {
     "data": {
      "text/plain": [
       "<AxesSubplot:>"
      ]
     },
     "execution_count": 13,
     "metadata": {},
     "output_type": "execute_result"
    },
    {
     "data": {
      "image/png": "[encoded data removed]",
      "text/plain": [
       "<Figure size 432x288 with 1 Axes>"
      ]
     },
     "metadata": {
      "needs_background": "light"
     },
     "output_type": "display_data"
    }
   ],
   "source": [
    "loan_df.int_rate.hist(edgecolor='black', alpha=0.5)\n",
    "#Interest rate is in the range from 5% to 25%. Majority of loans have interest rate between 5-17%."
   ]
  },
  {
   "cell_type": "code",
   "execution_count": 14,
   "id": "652cc590",
   "metadata": {},
   "outputs": [
    {
     "data": {
      "text/html": [
       "<div>\n",
       "<style scoped>\n",
       "    .dataframe tbody tr th:only-of-type {\n",
       "        vertical-align: middle;\n",
       "    }\n",
       "\n",
       "    .dataframe tbody tr th {\n",
       "        vertical-align: top;\n",
       "    }\n",
       "\n",
       "    .dataframe thead th {\n",
       "        text-align: right;\n",
       "    }\n",
       "</style>\n",
       "<table border=\"1\" class=\"dataframe\">\n",
       "  <thead>\n",
       "    <tr style=\"text-align: right;\">\n",
       "      <th></th>\n",
       "      <th>int_rate</th>\n",
       "    </tr>\n",
       "    <tr>\n",
       "      <th>term</th>\n",
       "      <th></th>\n",
       "    </tr>\n",
       "  </thead>\n",
       "  <tbody>\n",
       "    <tr>\n",
       "      <th>36 months</th>\n",
       "      <td>11.121125</td>\n",
       "    </tr>\n",
       "    <tr>\n",
       "      <th>60 months</th>\n",
       "      <td>14.934955</td>\n",
       "    </tr>\n",
       "  </tbody>\n",
       "</table>\n",
       "</div>"
      ],
      "text/plain": [
       "            int_rate\n",
       "term                \n",
       "36 months  11.121125\n",
       "60 months  14.934955"
      ]
     },
     "execution_count": 14,
     "metadata": {},
     "output_type": "execute_result"
    }
   ],
   "source": [
    "loan_df.groupby('term').agg({'int_rate':'mean'})\n",
    "#36 months loans have significant lower average interest rate than that of 60 months loans."
   ]
  },
  {
   "cell_type": "code",
   "execution_count": 15,
   "id": "e163150c",
   "metadata": {
    "scrolled": true
   },
   "outputs": [
    {
     "data": {
      "text/plain": [
       "Text(0, 0.5, 'Loan Term')"
      ]
     },
     "execution_count": 15,
     "metadata": {},
     "output_type": "execute_result"
    },
    {
     "data": {
      "image/png": "[encoded data removed]",
      "text/plain": [
       "<Figure size 432x288 with 1 Axes>"
      ]
     },
     "metadata": {
      "needs_background": "light"
     },
     "output_type": "display_data"
    }
   ],
   "source": [
    "ax = loan_df.groupby('term').agg({'int_rate':'mean'}).plot.bar(legend = False)\n",
    "ax.set_title('Loan Term and Interest Rate')\n",
    "ax.set_ylabel('Loan Term')\n",
    "#36 months loans have significant lower average interest rate than that of 60 months loans."
   ]
  },
  {
   "cell_type": "code",
   "execution_count": 17,
   "id": "df195c2c",
   "metadata": {},
   "outputs": [
    {
     "data": {
      "image/png": "[encoded data removed]",
      "text/plain": [
       "<Figure size 432x288 with 1 Axes>"
      ]
     },
     "metadata": {
      "needs_background": "light"
     },
     "output_type": "display_data"
    }
   ],
   "source": [
    "ax1 = loan_df.groupby('term').agg({'loan_amnt':'count'}).plot.bar(legend = False)"
   ]
  },
  {
   "cell_type": "code",
   "execution_count": 18,
   "id": "c8dbdfe3",
   "metadata": {},
   "outputs": [
    {
     "data": {
      "image/png": "[encoded data removed]",
      "text/plain": [
       "<Figure size 432x288 with 1 Axes>"
      ]
     },
     "metadata": {
      "needs_background": "light"
     },
     "output_type": "display_data"
    }
   ],
   "source": [
    "ax2 = loan_df[loan_df['loan_status']=='Fully Paid'].groupby('term').agg({'loan_amnt':'count'}).plot.bar(legend = False)\n",
    "#there is no particular difference between the loan term and the full repayment of the loan"
   ]
  },
  {
   "cell_type": "markdown",
   "id": "a77e48e7",
   "metadata": {},
   "source": [
    "==> Preferably and more often borrowers were lent for a period of 36 months. But at the same time , there is no dependence on whether loans with a term of 36 months or 60 months were repaid more often."
   ]
  },
  {
   "cell_type": "code",
   "execution_count": 19,
   "id": "46f519ab",
   "metadata": {},
   "outputs": [
    {
     "data": {
      "text/plain": [
       "array(['C', 'E', 'F', 'B', 'A', 'D', 'G'], dtype=object)"
      ]
     },
     "execution_count": 19,
     "metadata": {},
     "output_type": "execute_result"
    }
   ],
   "source": [
    "loan_df.grade.unique()"
   ]
  },
  {
   "cell_type": "code",
   "execution_count": 20,
   "id": "932d1794",
   "metadata": {},
   "outputs": [
    {
     "data": {
      "text/html": [
       "<div>\n",
       "<style scoped>\n",
       "    .dataframe tbody tr th:only-of-type {\n",
       "        vertical-align: middle;\n",
       "    }\n",
       "\n",
       "    .dataframe tbody tr th {\n",
       "        vertical-align: top;\n",
       "    }\n",
       "\n",
       "    .dataframe thead th {\n",
       "        text-align: right;\n",
       "    }\n",
       "</style>\n",
       "<table border=\"1\" class=\"dataframe\">\n",
       "  <thead>\n",
       "    <tr style=\"text-align: right;\">\n",
       "      <th></th>\n",
       "      <th>int_rate</th>\n",
       "    </tr>\n",
       "    <tr>\n",
       "      <th>grade</th>\n",
       "      <th></th>\n",
       "    </tr>\n",
       "  </thead>\n",
       "  <tbody>\n",
       "    <tr>\n",
       "      <th>A</th>\n",
       "      <td>7.350978</td>\n",
       "    </tr>\n",
       "    <tr>\n",
       "      <th>B</th>\n",
       "      <td>11.033439</td>\n",
       "    </tr>\n",
       "    <tr>\n",
       "      <th>C</th>\n",
       "      <td>13.555241</td>\n",
       "    </tr>\n",
       "    <tr>\n",
       "      <th>D</th>\n",
       "      <td>15.707576</td>\n",
       "    </tr>\n",
       "    <tr>\n",
       "      <th>E</th>\n",
       "      <td>17.653752</td>\n",
       "    </tr>\n",
       "    <tr>\n",
       "      <th>F</th>\n",
       "      <td>19.729463</td>\n",
       "    </tr>\n",
       "    <tr>\n",
       "      <th>G</th>\n",
       "      <td>21.346981</td>\n",
       "    </tr>\n",
       "  </tbody>\n",
       "</table>\n",
       "</div>"
      ],
      "text/plain": [
       "        int_rate\n",
       "grade           \n",
       "A       7.350978\n",
       "B      11.033439\n",
       "C      13.555241\n",
       "D      15.707576\n",
       "E      17.653752\n",
       "F      19.729463\n",
       "G      21.346981"
      ]
     },
     "execution_count": 20,
     "metadata": {},
     "output_type": "execute_result"
    }
   ],
   "source": [
    "loan_df.groupby('grade').agg({'int_rate':'mean'})"
   ]
  },
  {
   "cell_type": "markdown",
   "id": "9a7c292b",
   "metadata": {},
   "source": [
    "==> There are 7 credit ratings in the dataset. The rate increases depending on the credit rating."
   ]
  },
  {
   "cell_type": "code",
   "execution_count": 21,
   "id": "30aec492",
   "metadata": {},
   "outputs": [
    {
     "data": {
      "text/plain": [
       "Text(0, 0.5, 'Interest Rate')"
      ]
     },
     "execution_count": 21,
     "metadata": {},
     "output_type": "execute_result"
    },
    {
     "data": {
      "image/png": "[encoded data removed]",
      "text/plain": [
       "<Figure size 432x288 with 1 Axes>"
      ]
     },
     "metadata": {
      "needs_background": "light"
     },
     "output_type": "display_data"
    }
   ],
   "source": [
    "ax3 = loan_df.groupby('grade').agg({'int_rate':'mean'}).plot.bar(legend = False)\n",
    "ax3.set_title('Grade and Interest Rate')\n",
    "ax3.set_ylabel('Interest Rate')\n",
    "#There are 7 credit ratings in the dataset. The rate increases depending on the credit rating."
   ]
  },
  {
   "cell_type": "code",
   "execution_count": 22,
   "id": "799fcfc4",
   "metadata": {},
   "outputs": [
    {
     "data": {
      "text/html": [
       "<div>\n",
       "<style scoped>\n",
       "    .dataframe tbody tr th:only-of-type {\n",
       "        vertical-align: middle;\n",
       "    }\n",
       "\n",
       "    .dataframe tbody tr th {\n",
       "        vertical-align: top;\n",
       "    }\n",
       "\n",
       "    .dataframe thead th {\n",
       "        text-align: right;\n",
       "    }\n",
       "</style>\n",
       "<table border=\"1\" class=\"dataframe\">\n",
       "  <thead>\n",
       "    <tr style=\"text-align: right;\">\n",
       "      <th></th>\n",
       "      <th>loan_amnt</th>\n",
       "    </tr>\n",
       "    <tr>\n",
       "      <th>grade</th>\n",
       "      <th></th>\n",
       "    </tr>\n",
       "  </thead>\n",
       "  <tbody>\n",
       "    <tr>\n",
       "      <th>A</th>\n",
       "      <td>4875</td>\n",
       "    </tr>\n",
       "    <tr>\n",
       "      <th>B</th>\n",
       "      <td>6065</td>\n",
       "    </tr>\n",
       "    <tr>\n",
       "      <th>C</th>\n",
       "      <td>4087</td>\n",
       "    </tr>\n",
       "    <tr>\n",
       "      <th>D</th>\n",
       "      <td>2748</td>\n",
       "    </tr>\n",
       "    <tr>\n",
       "      <th>E</th>\n",
       "      <td>1434</td>\n",
       "    </tr>\n",
       "    <tr>\n",
       "      <th>F</th>\n",
       "      <td>540</td>\n",
       "    </tr>\n",
       "    <tr>\n",
       "      <th>G</th>\n",
       "      <td>159</td>\n",
       "    </tr>\n",
       "  </tbody>\n",
       "</table>\n",
       "</div>"
      ],
      "text/plain": [
       "       loan_amnt\n",
       "grade           \n",
       "A           4875\n",
       "B           6065\n",
       "C           4087\n",
       "D           2748\n",
       "E           1434\n",
       "F            540\n",
       "G            159"
      ]
     },
     "execution_count": 22,
     "metadata": {},
     "output_type": "execute_result"
    }
   ],
   "source": [
    "loan_df.groupby('grade').agg({'loan_amnt':'count'})"
   ]
  },
  {
   "cell_type": "code",
   "execution_count": 23,
   "id": "bd4ed4d2",
   "metadata": {},
   "outputs": [
    {
     "data": {
      "text/html": [
       "<div>\n",
       "<style scoped>\n",
       "    .dataframe tbody tr th:only-of-type {\n",
       "        vertical-align: middle;\n",
       "    }\n",
       "\n",
       "    .dataframe tbody tr th {\n",
       "        vertical-align: top;\n",
       "    }\n",
       "\n",
       "    .dataframe thead th {\n",
       "        text-align: right;\n",
       "    }\n",
       "</style>\n",
       "<table border=\"1\" class=\"dataframe\">\n",
       "  <thead>\n",
       "    <tr style=\"text-align: right;\">\n",
       "      <th></th>\n",
       "      <th>loan_amnt</th>\n",
       "    </tr>\n",
       "    <tr>\n",
       "      <th>grade</th>\n",
       "      <th></th>\n",
       "    </tr>\n",
       "  </thead>\n",
       "  <tbody>\n",
       "    <tr>\n",
       "      <th>A</th>\n",
       "      <td>8817.800000</td>\n",
       "    </tr>\n",
       "    <tr>\n",
       "      <th>B</th>\n",
       "      <td>11221.603462</td>\n",
       "    </tr>\n",
       "    <tr>\n",
       "      <th>C</th>\n",
       "      <td>10985.900416</td>\n",
       "    </tr>\n",
       "    <tr>\n",
       "      <th>D</th>\n",
       "      <td>12396.379185</td>\n",
       "    </tr>\n",
       "    <tr>\n",
       "      <th>E</th>\n",
       "      <td>15988.249651</td>\n",
       "    </tr>\n",
       "    <tr>\n",
       "      <th>F</th>\n",
       "      <td>18105.277778</td>\n",
       "    </tr>\n",
       "    <tr>\n",
       "      <th>G</th>\n",
       "      <td>20867.610063</td>\n",
       "    </tr>\n",
       "  </tbody>\n",
       "</table>\n",
       "</div>"
      ],
      "text/plain": [
       "          loan_amnt\n",
       "grade              \n",
       "A       8817.800000\n",
       "B      11221.603462\n",
       "C      10985.900416\n",
       "D      12396.379185\n",
       "E      15988.249651\n",
       "F      18105.277778\n",
       "G      20867.610063"
      ]
     },
     "execution_count": 23,
     "metadata": {},
     "output_type": "execute_result"
    }
   ],
   "source": [
    "loan_df.groupby('grade').agg({'loan_amnt':'mean'})"
   ]
  },
  {
   "cell_type": "code",
   "execution_count": 24,
   "id": "f8613bcf",
   "metadata": {},
   "outputs": [
    {
     "data": {
      "text/plain": [
       "Text(0, 0.5, 'Loan_amnt')"
      ]
     },
     "execution_count": 24,
     "metadata": {},
     "output_type": "execute_result"
    },
    {
     "data": {
      "image/png": "[encoded data removed]",
      "text/plain": [
       "<Figure size 432x288 with 1 Axes>"
      ]
     },
     "metadata": {
      "needs_background": "light"
     },
     "output_type": "display_data"
    }
   ],
   "source": [
    "ax4 = loan_df.groupby('grade').agg({'loan_amnt':'mean'}).plot.bar(legend = False)\n",
    "ax4.set_title('Grade and Loan_amnt')\n",
    "ax4.set_ylabel('Loan_amnt')\n",
    "#the highest loan amounts are in grade E,F,G"
   ]
  },
  {
   "cell_type": "markdown",
   "id": "eec4c433",
   "metadata": {},
   "source": [
    "==> The first three grade include a larger number of credits. But what is the reason for this. Whether the credit institution refused borrowers with a certain grade. Or are the borrowers themselves not ready to lend at a higher interest rate.\n",
    "The rate increases depending on the grade. The lower loan amount corresponds to Group A, the largest amount G"
   ]
  },
  {
   "cell_type": "code",
   "execution_count": 54,
   "id": "8abe5c3e",
   "metadata": {},
   "outputs": [
    {
     "data": {
      "text/plain": [
       "Text(0, 0.5, 'Count of Loan')"
      ]
     },
     "execution_count": 54,
     "metadata": {},
     "output_type": "execute_result"
    },
    {
     "data": {
      "image/png": "[encoded data removed]",
      "text/plain": [
       "<Figure size 432x288 with 1 Axes>"
      ]
     },
     "metadata": {
      "needs_background": "light"
     },
     "output_type": "display_data"
    }
   ],
   "source": [
    "ax7 = loan_df.groupby('grade').agg({'loan_amnt':'count'}).plot.bar(legend = False)\n",
    "ax7.set_title('Grade and Count of Loan')\n",
    "ax7.set_ylabel('Count of Loan')"
   ]
  },
  {
   "cell_type": "code",
   "execution_count": 58,
   "id": "cf47d763",
   "metadata": {},
   "outputs": [
    {
     "data": {
      "text/plain": [
       "Text(0, 0.5, 'Count of Loan')"
      ]
     },
     "execution_count": 58,
     "metadata": {},
     "output_type": "execute_result"
    },
    {
     "data": {
      "image/png": "[encoded data removed]",
      "text/plain": [
       "<Figure size 432x288 with 1 Axes>"
      ]
     },
     "metadata": {
      "needs_background": "light"
     },
     "output_type": "display_data"
    }
   ],
   "source": [
    "ax8 = loan_df[loan_df['loan_status']=='Fully Paid'].groupby('grade').agg({'annual_inc':'mean'}).plot.bar(legend = False)\n",
    "ax8.set_title('Grade and Count of Loan')\n",
    "ax8.set_ylabel('Count of Loan')"
   ]
  },
  {
   "cell_type": "code",
   "execution_count": 59,
   "id": "78623d87",
   "metadata": {},
   "outputs": [
    {
     "data": {
      "text/plain": [
       "Text(0, 0.5, 'Count of Loan')"
      ]
     },
     "execution_count": 59,
     "metadata": {},
     "output_type": "execute_result"
    },
    {
     "data": {
      "image/png": "[encoded data removed]",
      "text/plain": [
       "<Figure size 432x288 with 1 Axes>"
      ]
     },
     "metadata": {
      "needs_background": "light"
     },
     "output_type": "display_data"
    }
   ],
   "source": [
    "ax8 = loan_df[loan_df['loan_status']=='Fully Paid'].groupby('grade').agg({'loan_amnt':'mean'}).plot.bar(legend = False)\n",
    "ax8.set_title('Grade and Count of Loan')\n",
    "ax8.set_ylabel('Count of Loan')"
   ]
  },
  {
   "cell_type": "code",
   "execution_count": 57,
   "id": "0f0842a7",
   "metadata": {},
   "outputs": [
    {
     "data": {
      "text/plain": [
       "Text(0, 0.5, 'Count of Loan')"
      ]
     },
     "execution_count": 57,
     "metadata": {},
     "output_type": "execute_result"
    },
    {
     "data": {
      "image/png": "[encoded data removed]",
      "text/plain": [
       "<Figure size 432x288 with 1 Axes>"
      ]
     },
     "metadata": {
      "needs_background": "light"
     },
     "output_type": "display_data"
    }
   ],
   "source": [
    "ax8 = loan_df[loan_df['loan_status']=='Fully Paid'].groupby('grade').agg({'annual_inc':'mean'}).plot.bar(legend = False)\n",
    "ax8.set_title('Grade and Count of Loan')\n",
    "ax8.set_ylabel('Count of Loan')"
   ]
  },
  {
   "cell_type": "code",
   "execution_count": 25,
   "id": "632b1477",
   "metadata": {},
   "outputs": [
    {
     "data": {
      "text/plain": [
       "Text(0, 0.5, 'Annual_inc')"
      ]
     },
     "execution_count": 25,
     "metadata": {},
     "output_type": "execute_result"
    },
    {
     "data": {
      "image/png": "[encoded data removed]",
      "text/plain": [
       "<Figure size 432x288 with 1 Axes>"
      ]
     },
     "metadata": {
      "needs_background": "light"
     },
     "output_type": "display_data"
    }
   ],
   "source": [
    "ax5 = loan_df.groupby('grade').agg({'annual_inc':'mean'}).plot.bar(legend = False)\n",
    "ax5.set_title('Grade and Annual_inc')\n",
    "ax5.set_ylabel('Annual_inc')\n",
    "#the higher the income, the larger the loan amount. Hence the increase in the rate depending on the growth of the loan amount"
   ]
  },
  {
   "cell_type": "markdown",
   "id": "af953272",
   "metadata": {},
   "source": [
    "==> The same applies to the borrower's income. Borrowers with higher incomes belong to the latter group. However, in my opinion, this has an indirect impact on the grade. Most likely, borrowers with a higher standard of living also need large amounts of loans."
   ]
  },
  {
   "cell_type": "markdown",
   "id": "71f16586",
   "metadata": {},
   "source": [
    "==> What about the geography of loans. \n",
    "Most loans are taken in California, incomes do not vary much by state."
   ]
  },
  {
   "cell_type": "code",
   "execution_count": 55,
   "id": "08dfad46",
   "metadata": {},
   "outputs": [
    {
     "data": {
      "text/plain": [
       "Text(0, 0.5, 'Count of Loan')"
      ]
     },
     "execution_count": 55,
     "metadata": {},
     "output_type": "execute_result"
    },
    {
     "data": {
      "image/png": "[encoded data removed]",
      "text/plain": [
       "<Figure size 432x288 with 1 Axes>"
      ]
     },
     "metadata": {
      "needs_background": "light"
     },
     "output_type": "display_data"
    }
   ],
   "source": [
    "ax6 = loan_df.groupby('addr_state').agg({'loan_amnt':'count'}).plot.bar(legend = False)\n",
    "ax6.set_title('States and Count of Loan')\n",
    "ax6.set_ylabel('Count of Loan')\n",
    "#most loans are taken in California"
   ]
  },
  {
   "cell_type": "code",
   "execution_count": 29,
   "id": "8aa45cf8",
   "metadata": {},
   "outputs": [
    {
     "data": {
      "text/plain": [
       "Text(0.5, 1.0, 'State')"
      ]
     },
     "execution_count": 29,
     "metadata": {},
     "output_type": "execute_result"
    },
    {
     "data": {
      "image/png": "[encoded data removed]",
      "text/plain": [
       "<Figure size 432x288 with 1 Axes>"
      ]
     },
     "metadata": {
      "needs_background": "light"
     },
     "output_type": "display_data"
    }
   ],
   "source": [
    "ax6 = loan_df.groupby('addr_state').agg({'annual_inc':'mean'}).plot.bar(legend = False)\n",
    "ax6.set_title('State')"
   ]
  },
  {
   "cell_type": "code",
   "execution_count": 53,
   "id": "26e304be",
   "metadata": {},
   "outputs": [
    {
     "data": {
      "text/plain": [
       "0.2513029787490761"
      ]
     },
     "execution_count": 53,
     "metadata": {},
     "output_type": "execute_result"
    },
    {
     "data": {
      "image/png": "[encoded data removed]",
      "text/plain": [
       "<Figure size 432x288 with 1 Axes>"
      ]
     },
     "metadata": {
      "needs_background": "light"
     },
     "output_type": "display_data"
    }
   ],
   "source": [
    "plt.scatter(loan_df['loan_amnt'],loan_df['annual_inc'])\n",
    "np.corrcoef(loan_df['loan_amnt'],loan_df['annual_inc'])[0,1]"
   ]
  },
  {
   "cell_type": "markdown",
   "id": "d84891e4",
   "metadata": {},
   "source": [
    "To have an idea of the temporary changes, i transform the column loan_df['issue_d'] to the datetime type."
   ]
  },
  {
   "cell_type": "code",
   "execution_count": 30,
   "id": "cd5a5054",
   "metadata": {},
   "outputs": [
    {
     "data": {
      "text/plain": [
       "0        Dec-2011\n",
       "1        Dec-2011\n",
       "2        Dec-2011\n",
       "3        Dec-2011\n",
       "4        Dec-2011\n",
       "           ...   \n",
       "19903    Jul-2007\n",
       "19904    Jul-2007\n",
       "19905    Jul-2007\n",
       "19906    Jul-2007\n",
       "19907    Jul-2007\n",
       "Name: issue_d, Length: 19908, dtype: object"
      ]
     },
     "execution_count": 30,
     "metadata": {},
     "output_type": "execute_result"
    }
   ],
   "source": [
    "loan_df['issue_d']"
   ]
  },
  {
   "cell_type": "code",
   "execution_count": 31,
   "id": "7159999e",
   "metadata": {},
   "outputs": [],
   "source": [
    "from datetime import datetime"
   ]
  },
  {
   "cell_type": "code",
   "execution_count": 32,
   "id": "ff692660",
   "metadata": {},
   "outputs": [
    {
     "data": {
      "text/plain": [
       "0       2011-12-01\n",
       "1       2011-12-01\n",
       "2       2011-12-01\n",
       "3       2011-12-01\n",
       "4       2011-12-01\n",
       "           ...    \n",
       "19903   2007-07-01\n",
       "19904   2007-07-01\n",
       "19905   2007-07-01\n",
       "19906   2007-07-01\n",
       "19907   2007-07-01\n",
       "Name: issue_d, Length: 19908, dtype: datetime64[ns]"
      ]
     },
     "execution_count": 32,
     "metadata": {},
     "output_type": "execute_result"
    }
   ],
   "source": [
    "loan_df['issue_d']=pd.to_datetime(loan_df['issue_d'])\n",
    "loan_df['issue_d']"
   ]
  },
  {
   "cell_type": "code",
   "execution_count": 33,
   "id": "90bc2da6",
   "metadata": {},
   "outputs": [
    {
     "data": {
      "text/plain": [
       "0        2011\n",
       "1        2011\n",
       "2        2011\n",
       "3        2011\n",
       "4        2011\n",
       "         ... \n",
       "19903    2007\n",
       "19904    2007\n",
       "19905    2007\n",
       "19906    2007\n",
       "19907    2007\n",
       "Name: issue_year, Length: 19908, dtype: int64"
      ]
     },
     "execution_count": 33,
     "metadata": {},
     "output_type": "execute_result"
    }
   ],
   "source": [
    "loan_df['issue_year']=loan_df['issue_d'].dt.year\n",
    "loan_df['issue_year']"
   ]
  },
  {
   "cell_type": "code",
   "execution_count": 34,
   "id": "2bec511a",
   "metadata": {},
   "outputs": [
    {
     "data": {
      "text/plain": [
       "<AxesSubplot:xlabel='issue_year'>"
      ]
     },
     "execution_count": 34,
     "metadata": {},
     "output_type": "execute_result"
    },
    {
     "data": {
      "image/png": "[encoded data removed]",
      "text/plain": [
       "<Figure size 432x288 with 1 Axes>"
      ]
     },
     "metadata": {
      "needs_background": "light"
     },
     "output_type": "display_data"
    }
   ],
   "source": [
    "loan_df2=loan_df.pivot_table(values='loan_amnt', index='issue_year',columns='addr_state', aggfunc='mean')\n",
    "loan_df2.plot.line()"
   ]
  },
  {
   "cell_type": "code",
   "execution_count": 35,
   "id": "179966cc",
   "metadata": {},
   "outputs": [
    {
     "data": {
      "text/plain": [
       "<AxesSubplot:xlabel='issue_year'>"
      ]
     },
     "execution_count": 35,
     "metadata": {},
     "output_type": "execute_result"
    },
    {
     "data": {
      "image/png": "[encoded data removed]",
      "text/plain": [
       "<Figure size 432x288 with 1 Axes>"
      ]
     },
     "metadata": {
      "needs_background": "light"
     },
     "output_type": "display_data"
    }
   ],
   "source": [
    "loan_df3=loan_df.pivot_table(values='annual_inc', index='issue_year',columns='addr_state', aggfunc='mean')\n",
    "loan_df3.plot.line()\n",
    "#the average loan amount grew faster than the average salary."
   ]
  },
  {
   "cell_type": "code",
   "execution_count": 36,
   "id": "57728ded",
   "metadata": {},
   "outputs": [
    {
     "data": {
      "text/plain": [
       "<AxesSubplot:xlabel='issue_year'>"
      ]
     },
     "execution_count": 36,
     "metadata": {},
     "output_type": "execute_result"
    },
    {
     "data": {
      "image/png": "[encoded data removed]",
      "text/plain": [
       "<Figure size 432x288 with 1 Axes>"
      ]
     },
     "metadata": {
      "needs_background": "light"
     },
     "output_type": "display_data"
    }
   ],
   "source": [
    "loan_df5=loan_df.pivot_table(values='dti', index='issue_year',columns='addr_state', aggfunc='mean')\n",
    "loan_df5.plot.line()\n",
    "#increased the credit burden"
   ]
  },
  {
   "cell_type": "code",
   "execution_count": 37,
   "id": "9d3c8574",
   "metadata": {},
   "outputs": [
    {
     "data": {
      "text/plain": [
       "<AxesSubplot:xlabel='issue_year'>"
      ]
     },
     "execution_count": 37,
     "metadata": {},
     "output_type": "execute_result"
    },
    {
     "data": {
      "image/png": "[encoded data removed]",
      "text/plain": [
       "<Figure size 432x288 with 1 Axes>"
      ]
     },
     "metadata": {
      "needs_background": "light"
     },
     "output_type": "display_data"
    }
   ],
   "source": [
    "loan_df4=loan_df.pivot_table(values='int_rate', index='issue_year',columns='addr_state', aggfunc='mean')\n",
    "loan_df4.plot.line()"
   ]
  },
  {
   "cell_type": "markdown",
   "id": "09ffd513",
   "metadata": {},
   "source": [
    "==> With the increase in the number of loans taken, the need for large amounts of credit also grew, hence the growth in interest rates"
   ]
  },
  {
   "cell_type": "markdown",
   "id": "3af44a88",
   "metadata": {},
   "source": [
    "==> Since 2006, there has been a rapid growth in lending.\n",
    "At the same time, wages do not increase as much as the loan amount as a consequence , it increases debt-to-income ratio (DTI). \n",
    "A debt-to-income ratio (DTI) is a personal finance measure that compares the amount of debt you have to your overall income. it also increases over the years. \n",
    "Thus, the number of borrowers with a high credit load increases.\n",
    "The increase (DTI) of the population is a general trend in 2010-2011 in the United States, which is associated with the preceding mortgage crisis."
   ]
  },
  {
   "cell_type": "code",
   "execution_count": 121,
   "id": "d1b3c07b",
   "metadata": {},
   "outputs": [
    {
     "data": {
      "text/plain": [
       "0.8521699819168174"
      ]
     },
     "execution_count": 121,
     "metadata": {},
     "output_type": "execute_result"
    }
   ],
   "source": [
    "paid_off_rate=loan_df[loan_df['loan_status']=='Fully Paid']['term'].count()/loan_df['loan_status'].count()\n",
    "paid_off_rate\n",
    "#calculating the average value of the share of paid loans"
   ]
  },
  {
   "cell_type": "markdown",
   "id": "6c621854",
   "metadata": {},
   "source": [
    "Let's see the number of loans paid.\n",
    "85% of loans have been paid."
   ]
  },
  {
   "cell_type": "code",
   "execution_count": 38,
   "id": "a629e364",
   "metadata": {},
   "outputs": [
    {
     "data": {
      "text/html": [
       "<div>\n",
       "<style scoped>\n",
       "    .dataframe tbody tr th:only-of-type {\n",
       "        vertical-align: middle;\n",
       "    }\n",
       "\n",
       "    .dataframe tbody tr th {\n",
       "        vertical-align: top;\n",
       "    }\n",
       "\n",
       "    .dataframe thead th {\n",
       "        text-align: right;\n",
       "    }\n",
       "</style>\n",
       "<table border=\"1\" class=\"dataframe\">\n",
       "  <thead>\n",
       "    <tr style=\"text-align: right;\">\n",
       "      <th>loan_status</th>\n",
       "      <th>Charged Off</th>\n",
       "      <th>Fully Paid</th>\n",
       "    </tr>\n",
       "    <tr>\n",
       "      <th>term</th>\n",
       "      <th></th>\n",
       "      <th></th>\n",
       "    </tr>\n",
       "  </thead>\n",
       "  <tbody>\n",
       "    <tr>\n",
       "      <th>36 months</th>\n",
       "      <td>1728</td>\n",
       "      <td>13124</td>\n",
       "    </tr>\n",
       "    <tr>\n",
       "      <th>60 months</th>\n",
       "      <td>1215</td>\n",
       "      <td>3841</td>\n",
       "    </tr>\n",
       "  </tbody>\n",
       "</table>\n",
       "</div>"
      ],
      "text/plain": [
       "loan_status  Charged Off  Fully Paid\n",
       "term                                \n",
       "36 months           1728       13124\n",
       "60 months           1215        3841"
      ]
     },
     "execution_count": 38,
     "metadata": {},
     "output_type": "execute_result"
    }
   ],
   "source": [
    "pt_term=loan_df.pivot_table(values='int_rate', index='term',columns='loan_status', aggfunc='count')\n",
    "pt_term"
   ]
  },
  {
   "cell_type": "code",
   "execution_count": 39,
   "id": "84dc4d35",
   "metadata": {},
   "outputs": [],
   "source": [
    "pt_term['payoffRate']=pt_term.apply(lambda row: row['Fully Paid']/(row['Fully Paid']+row['Charged Off']), axis=1)"
   ]
  },
  {
   "cell_type": "code",
   "execution_count": 40,
   "id": "c89ba933",
   "metadata": {},
   "outputs": [],
   "source": [
    "pt_term['term'] = pt_term.index"
   ]
  },
  {
   "cell_type": "code",
   "execution_count": 125,
   "id": "741eeb14",
   "metadata": {},
   "outputs": [
    {
     "data": {
      "text/html": [
       "<div>\n",
       "<style scoped>\n",
       "    .dataframe tbody tr th:only-of-type {\n",
       "        vertical-align: middle;\n",
       "    }\n",
       "\n",
       "    .dataframe tbody tr th {\n",
       "        vertical-align: top;\n",
       "    }\n",
       "\n",
       "    .dataframe thead th {\n",
       "        text-align: right;\n",
       "    }\n",
       "</style>\n",
       "<table border=\"1\" class=\"dataframe\">\n",
       "  <thead>\n",
       "    <tr style=\"text-align: right;\">\n",
       "      <th>loan_status</th>\n",
       "      <th>Charged Off</th>\n",
       "      <th>Fully Paid</th>\n",
       "      <th>payoffRate</th>\n",
       "      <th>term</th>\n",
       "    </tr>\n",
       "    <tr>\n",
       "      <th>term</th>\n",
       "      <th></th>\n",
       "      <th></th>\n",
       "      <th></th>\n",
       "      <th></th>\n",
       "    </tr>\n",
       "  </thead>\n",
       "  <tbody>\n",
       "    <tr>\n",
       "      <th>36 months</th>\n",
       "      <td>1728</td>\n",
       "      <td>13124</td>\n",
       "      <td>0.883652</td>\n",
       "      <td>36 months</td>\n",
       "    </tr>\n",
       "    <tr>\n",
       "      <th>60 months</th>\n",
       "      <td>1215</td>\n",
       "      <td>3841</td>\n",
       "      <td>0.759691</td>\n",
       "      <td>60 months</td>\n",
       "    </tr>\n",
       "  </tbody>\n",
       "</table>\n",
       "</div>"
      ],
      "text/plain": [
       "loan_status  Charged Off  Fully Paid  payoffRate       term\n",
       "term                                                       \n",
       "36 months           1728       13124    0.883652  36 months\n",
       "60 months           1215        3841    0.759691  60 months"
      ]
     },
     "execution_count": 125,
     "metadata": {},
     "output_type": "execute_result"
    }
   ],
   "source": [
    "pt_term"
   ]
  },
  {
   "cell_type": "code",
   "execution_count": 42,
   "id": "cb8e7943",
   "metadata": {},
   "outputs": [],
   "source": [
    "from scipy import stats"
   ]
  },
  {
   "cell_type": "code",
   "execution_count": 43,
   "id": "91043f01",
   "metadata": {},
   "outputs": [
    {
     "name": "stdout",
     "output_type": "stream",
     "text": [
      "1471.5 8482.5\n",
      "p-value 0.2705290011497496\n",
      "We fail to reject the null hypothesis\n"
     ]
    }
   ],
   "source": [
    "A = pt_term['Charged Off']\n",
    "B = pt_term['Fully Paid']\n",
    "print(A.mean(), B.mean())\n",
    "\n",
    "alpha = 0.05  # level of significance\n",
    "\n",
    "tstat, pval = stats.ttest_ind(a=A, b=B, alternative='two-sided')\n",
    "print(\"p-value\", pval)\n",
    "\n",
    "if pval < alpha: \n",
    "    print(\"We reject the null hypothesis\")\n",
    "else:\n",
    "    print(\"We fail to reject the null hypothesis\")"
   ]
  },
  {
   "cell_type": "markdown",
   "id": "d915c8f8",
   "metadata": {},
   "source": [
    "I get a new table using the pivot_table method with the number of credits."
   ]
  },
  {
   "cell_type": "markdown",
   "id": "2d5542ec",
   "metadata": {},
   "source": [
    "The payoffRate ratio is approximately the same for loan terms."
   ]
  },
  {
   "cell_type": "markdown",
   "id": "a21b1719",
   "metadata": {},
   "source": [
    "I would like to check whether the rate affects the repayment of the loan. To do this, I used a t-test for independet samples."
   ]
  },
  {
   "cell_type": "markdown",
   "id": "1ebe0c36",
   "metadata": {},
   "source": [
    "The rate does not affect the repayment of the loan."
   ]
  },
  {
   "cell_type": "code",
   "execution_count": 47,
   "id": "c1b7dce4",
   "metadata": {},
   "outputs": [],
   "source": [
    "mapping_dict = {'36 months':0, '60 months':1}\n",
    "loan_df['loan_term_year']=loan_df.term.map(mapping_dict)"
   ]
  },
  {
   "cell_type": "code",
   "execution_count": 48,
   "id": "82844f4e",
   "metadata": {},
   "outputs": [
    {
     "name": "stdout",
     "output_type": "stream",
     "text": [
      "0.22640730916592985 0.41284403669724773\n",
      "p-value 1.580962223388964e-103\n",
      "We reject the null hypothesis\n"
     ]
    }
   ],
   "source": [
    "A = (loan_df[loan_df['loan_status']=='Fully Paid'])['loan_term_year'] #H0: A>B\n",
    "B =(loan_df[loan_df['loan_status']=='Charged Off'])['loan_term_year'] #H1: A<B\n",
    "print(A.mean(), B.mean())\n",
    "\n",
    "alpha = 0.05  # level of significance\n",
    "\n",
    "tstat, pval = stats.ttest_ind(a=A, b=B, alternative='less')\n",
    "print(\"p-value\", pval)\n",
    "\n",
    "if pval < alpha: \n",
    "    print(\"We reject the null hypothesis\")\n",
    "else:\n",
    "    print(\"We fail to reject the null hypothesis\")"
   ]
  },
  {
   "cell_type": "code",
   "execution_count": 49,
   "id": "e1080180",
   "metadata": {},
   "outputs": [
    {
     "name": "stdout",
     "output_type": "stream",
     "text": [
      "11.788178603006168 13.827940876656601\n",
      "p-value 1.7596551424145754e-171\n",
      "We reject the null hypothesis\n"
     ]
    }
   ],
   "source": [
    "A = (loan_df[loan_df['loan_status']=='Fully Paid'])['int_rate'] #H0: A>B\n",
    "B =(loan_df[loan_df['loan_status']=='Charged Off'])['int_rate'] #H1: A<B\n",
    "print(A.mean(), B.mean())\n",
    "\n",
    "alpha = 0.05  # level of significance\n",
    "\n",
    "tstat, pval = stats.ttest_ind(a=A, b=B, alternative='less')\n",
    "print(\"p-value\", pval)\n",
    "\n",
    "if pval < alpha: \n",
    "    print(\"We reject the null hypothesis\")\n",
    "else:\n",
    "    print(\"We fail to reject the null hypothesis\")"
   ]
  },
  {
   "cell_type": "code",
   "execution_count": 127,
   "id": "fc19c5f6",
   "metadata": {},
   "outputs": [],
   "source": [
    "pt_grade=loan_df.pivot_table(values='int_rate', index='grade',columns='loan_status')\n",
    "pt_grade['grade'] = pt_grade.index"
   ]
  },
  {
   "cell_type": "code",
   "execution_count": 128,
   "id": "c07f91e6",
   "metadata": {},
   "outputs": [
    {
     "data": {
      "text/html": [
       "<div>\n",
       "<style scoped>\n",
       "    .dataframe tbody tr th:only-of-type {\n",
       "        vertical-align: middle;\n",
       "    }\n",
       "\n",
       "    .dataframe tbody tr th {\n",
       "        vertical-align: top;\n",
       "    }\n",
       "\n",
       "    .dataframe thead th {\n",
       "        text-align: right;\n",
       "    }\n",
       "</style>\n",
       "<table border=\"1\" class=\"dataframe\">\n",
       "  <thead>\n",
       "    <tr style=\"text-align: right;\">\n",
       "      <th>loan_status</th>\n",
       "      <th>Charged Off</th>\n",
       "      <th>Fully Paid</th>\n",
       "      <th>grade</th>\n",
       "    </tr>\n",
       "    <tr>\n",
       "      <th>grade</th>\n",
       "      <th></th>\n",
       "      <th></th>\n",
       "      <th></th>\n",
       "    </tr>\n",
       "  </thead>\n",
       "  <tbody>\n",
       "    <tr>\n",
       "      <th>A</th>\n",
       "      <td>7.609211</td>\n",
       "      <td>7.333804</td>\n",
       "      <td>A</td>\n",
       "    </tr>\n",
       "    <tr>\n",
       "      <th>B</th>\n",
       "      <td>11.137728</td>\n",
       "      <td>11.018070</td>\n",
       "      <td>B</td>\n",
       "    </tr>\n",
       "    <tr>\n",
       "      <th>C</th>\n",
       "      <td>13.563393</td>\n",
       "      <td>13.553637</td>\n",
       "      <td>C</td>\n",
       "    </tr>\n",
       "    <tr>\n",
       "      <th>D</th>\n",
       "      <td>15.835561</td>\n",
       "      <td>15.673412</td>\n",
       "      <td>D</td>\n",
       "    </tr>\n",
       "    <tr>\n",
       "      <th>E</th>\n",
       "      <td>17.749153</td>\n",
       "      <td>17.619602</td>\n",
       "      <td>E</td>\n",
       "    </tr>\n",
       "    <tr>\n",
       "      <th>F</th>\n",
       "      <td>20.009885</td>\n",
       "      <td>19.596148</td>\n",
       "      <td>F</td>\n",
       "    </tr>\n",
       "    <tr>\n",
       "      <th>G</th>\n",
       "      <td>21.611404</td>\n",
       "      <td>21.199216</td>\n",
       "      <td>G</td>\n",
       "    </tr>\n",
       "  </tbody>\n",
       "</table>\n",
       "</div>"
      ],
      "text/plain": [
       "loan_status  Charged Off  Fully Paid grade\n",
       "grade                                     \n",
       "A               7.609211    7.333804     A\n",
       "B              11.137728   11.018070     B\n",
       "C              13.563393   13.553637     C\n",
       "D              15.835561   15.673412     D\n",
       "E              17.749153   17.619602     E\n",
       "F              20.009885   19.596148     F\n",
       "G              21.611404   21.199216     G"
      ]
     },
     "execution_count": 128,
     "metadata": {},
     "output_type": "execute_result"
    }
   ],
   "source": [
    "pt_grade"
   ]
  },
  {
   "cell_type": "code",
   "execution_count": 130,
   "id": "7e7aa6bb",
   "metadata": {},
   "outputs": [
    {
     "data": {
      "text/html": [
       "<div>\n",
       "<style scoped>\n",
       "    .dataframe tbody tr th:only-of-type {\n",
       "        vertical-align: middle;\n",
       "    }\n",
       "\n",
       "    .dataframe tbody tr th {\n",
       "        vertical-align: top;\n",
       "    }\n",
       "\n",
       "    .dataframe thead th {\n",
       "        text-align: right;\n",
       "    }\n",
       "</style>\n",
       "<table border=\"1\" class=\"dataframe\">\n",
       "  <thead>\n",
       "    <tr style=\"text-align: right;\">\n",
       "      <th>loan_status</th>\n",
       "      <th>Charged Off</th>\n",
       "      <th>Fully Paid</th>\n",
       "      <th>grade</th>\n",
       "    </tr>\n",
       "    <tr>\n",
       "      <th>grade</th>\n",
       "      <th></th>\n",
       "      <th></th>\n",
       "      <th></th>\n",
       "    </tr>\n",
       "  </thead>\n",
       "  <tbody>\n",
       "    <tr>\n",
       "      <th>A</th>\n",
       "      <td>304</td>\n",
       "      <td>4571</td>\n",
       "      <td>A</td>\n",
       "    </tr>\n",
       "    <tr>\n",
       "      <th>B</th>\n",
       "      <td>779</td>\n",
       "      <td>5286</td>\n",
       "      <td>B</td>\n",
       "    </tr>\n",
       "    <tr>\n",
       "      <th>C</th>\n",
       "      <td>672</td>\n",
       "      <td>3415</td>\n",
       "      <td>C</td>\n",
       "    </tr>\n",
       "    <tr>\n",
       "      <th>D</th>\n",
       "      <td>579</td>\n",
       "      <td>2169</td>\n",
       "      <td>D</td>\n",
       "    </tr>\n",
       "    <tr>\n",
       "      <th>E</th>\n",
       "      <td>378</td>\n",
       "      <td>1056</td>\n",
       "      <td>E</td>\n",
       "    </tr>\n",
       "    <tr>\n",
       "      <th>F</th>\n",
       "      <td>174</td>\n",
       "      <td>366</td>\n",
       "      <td>F</td>\n",
       "    </tr>\n",
       "    <tr>\n",
       "      <th>G</th>\n",
       "      <td>57</td>\n",
       "      <td>102</td>\n",
       "      <td>G</td>\n",
       "    </tr>\n",
       "  </tbody>\n",
       "</table>\n",
       "</div>"
      ],
      "text/plain": [
       "loan_status  Charged Off  Fully Paid grade\n",
       "grade                                     \n",
       "A                    304        4571     A\n",
       "B                    779        5286     B\n",
       "C                    672        3415     C\n",
       "D                    579        2169     D\n",
       "E                    378        1056     E\n",
       "F                    174         366     F\n",
       "G                     57         102     G"
      ]
     },
     "execution_count": 130,
     "metadata": {},
     "output_type": "execute_result"
    }
   ],
   "source": [
    "pt_grade_amt=loan_df.pivot_table(values='loan_amnt', index='grade',columns='loan_status', aggfunc='count')\n",
    "pt_grade_amt['grade'] = pt_grade.index\n",
    "pt_grade_amt"
   ]
  },
  {
   "cell_type": "code",
   "execution_count": 131,
   "id": "4c06ddfa",
   "metadata": {},
   "outputs": [],
   "source": [
    "pt_grade_amt['payoffRate']=pt_grade_amt.apply(lambda row: row['Fully Paid']/(row['Fully Paid']+row['Charged Off']), axis=1)"
   ]
  },
  {
   "cell_type": "code",
   "execution_count": 132,
   "id": "e9602c42",
   "metadata": {},
   "outputs": [
    {
     "data": {
      "text/html": [
       "<div>\n",
       "<style scoped>\n",
       "    .dataframe tbody tr th:only-of-type {\n",
       "        vertical-align: middle;\n",
       "    }\n",
       "\n",
       "    .dataframe tbody tr th {\n",
       "        vertical-align: top;\n",
       "    }\n",
       "\n",
       "    .dataframe thead th {\n",
       "        text-align: right;\n",
       "    }\n",
       "</style>\n",
       "<table border=\"1\" class=\"dataframe\">\n",
       "  <thead>\n",
       "    <tr style=\"text-align: right;\">\n",
       "      <th>loan_status</th>\n",
       "      <th>Charged Off</th>\n",
       "      <th>Fully Paid</th>\n",
       "      <th>grade</th>\n",
       "      <th>payoffRate</th>\n",
       "    </tr>\n",
       "    <tr>\n",
       "      <th>grade</th>\n",
       "      <th></th>\n",
       "      <th></th>\n",
       "      <th></th>\n",
       "      <th></th>\n",
       "    </tr>\n",
       "  </thead>\n",
       "  <tbody>\n",
       "    <tr>\n",
       "      <th>A</th>\n",
       "      <td>304</td>\n",
       "      <td>4571</td>\n",
       "      <td>A</td>\n",
       "      <td>0.937641</td>\n",
       "    </tr>\n",
       "    <tr>\n",
       "      <th>B</th>\n",
       "      <td>779</td>\n",
       "      <td>5286</td>\n",
       "      <td>B</td>\n",
       "      <td>0.871558</td>\n",
       "    </tr>\n",
       "    <tr>\n",
       "      <th>C</th>\n",
       "      <td>672</td>\n",
       "      <td>3415</td>\n",
       "      <td>C</td>\n",
       "      <td>0.835576</td>\n",
       "    </tr>\n",
       "    <tr>\n",
       "      <th>D</th>\n",
       "      <td>579</td>\n",
       "      <td>2169</td>\n",
       "      <td>D</td>\n",
       "      <td>0.789301</td>\n",
       "    </tr>\n",
       "    <tr>\n",
       "      <th>E</th>\n",
       "      <td>378</td>\n",
       "      <td>1056</td>\n",
       "      <td>E</td>\n",
       "      <td>0.736402</td>\n",
       "    </tr>\n",
       "    <tr>\n",
       "      <th>F</th>\n",
       "      <td>174</td>\n",
       "      <td>366</td>\n",
       "      <td>F</td>\n",
       "      <td>0.677778</td>\n",
       "    </tr>\n",
       "    <tr>\n",
       "      <th>G</th>\n",
       "      <td>57</td>\n",
       "      <td>102</td>\n",
       "      <td>G</td>\n",
       "      <td>0.641509</td>\n",
       "    </tr>\n",
       "  </tbody>\n",
       "</table>\n",
       "</div>"
      ],
      "text/plain": [
       "loan_status  Charged Off  Fully Paid grade  payoffRate\n",
       "grade                                                 \n",
       "A                    304        4571     A    0.937641\n",
       "B                    779        5286     B    0.871558\n",
       "C                    672        3415     C    0.835576\n",
       "D                    579        2169     D    0.789301\n",
       "E                    378        1056     E    0.736402\n",
       "F                    174         366     F    0.677778\n",
       "G                     57         102     G    0.641509"
      ]
     },
     "execution_count": 132,
     "metadata": {},
     "output_type": "execute_result"
    }
   ],
   "source": [
    "pt_grade_amt"
   ]
  },
  {
   "cell_type": "code",
   "execution_count": 133,
   "id": "de6daa23",
   "metadata": {},
   "outputs": [
    {
     "name": "stdout",
     "output_type": "stream",
     "text": [
      "0.8585191683304289 0.6852296284600697\n",
      "p-value 0.005319495262947573\n",
      "We reject the null hypothesis\n"
     ]
    }
   ],
   "source": [
    "A = (pt_grade_amt.loc[pt_grade_amt['grade'].isin(['A','B','C','D'])])['payoffRate']\n",
    "B =(pt_grade_amt.loc[pt_grade_amt['grade'].isin(['E','F','G'])])['payoffRate']\n",
    "print(A.mean(), B.mean())\n",
    "\n",
    "alpha = 0.05  # level of significance\n",
    "\n",
    "tstat, pval = stats.ttest_ind(a=A, b=B, alternative='greater')\n",
    "print(\"p-value\", pval)\n",
    "\n",
    "if pval < alpha: \n",
    "    print(\"We reject the null hypothesis\")\n",
    "else:\n",
    "    print(\"We fail to reject the null hypothesis\")"
   ]
  },
  {
   "cell_type": "markdown",
   "id": "75dda565",
   "metadata": {},
   "source": [
    "==> However, the hypothesis is confirmed that the loan repayment coefficient is higher in the first three groups. Consequently, in the last 4 groups, loan repayment occurs less frequently"
   ]
  },
  {
   "cell_type": "code",
   "execution_count": 47,
   "id": "5af673fc",
   "metadata": {},
   "outputs": [
    {
     "data": {
      "text/html": [
       "<div>\n",
       "<style scoped>\n",
       "    .dataframe tbody tr th:only-of-type {\n",
       "        vertical-align: middle;\n",
       "    }\n",
       "\n",
       "    .dataframe tbody tr th {\n",
       "        vertical-align: top;\n",
       "    }\n",
       "\n",
       "    .dataframe thead th {\n",
       "        text-align: right;\n",
       "    }\n",
       "</style>\n",
       "<table border=\"1\" class=\"dataframe\">\n",
       "  <thead>\n",
       "    <tr style=\"text-align: right;\">\n",
       "      <th>loan_status</th>\n",
       "      <th>Charged Off</th>\n",
       "      <th>Fully Paid</th>\n",
       "      <th>grade</th>\n",
       "    </tr>\n",
       "    <tr>\n",
       "      <th>grade</th>\n",
       "      <th></th>\n",
       "      <th></th>\n",
       "      <th></th>\n",
       "    </tr>\n",
       "  </thead>\n",
       "  <tbody>\n",
       "    <tr>\n",
       "      <th>A</th>\n",
       "      <td>54627.197368</td>\n",
       "      <td>70127.679939</td>\n",
       "      <td>A</td>\n",
       "    </tr>\n",
       "    <tr>\n",
       "      <th>B</th>\n",
       "      <td>60440.029525</td>\n",
       "      <td>70437.940219</td>\n",
       "      <td>B</td>\n",
       "    </tr>\n",
       "    <tr>\n",
       "      <th>C</th>\n",
       "      <td>60488.662202</td>\n",
       "      <td>72809.666764</td>\n",
       "      <td>C</td>\n",
       "    </tr>\n",
       "    <tr>\n",
       "      <th>D</th>\n",
       "      <td>63862.255613</td>\n",
       "      <td>72563.396496</td>\n",
       "      <td>D</td>\n",
       "    </tr>\n",
       "    <tr>\n",
       "      <th>E</th>\n",
       "      <td>75638.415344</td>\n",
       "      <td>79777.064394</td>\n",
       "      <td>E</td>\n",
       "    </tr>\n",
       "    <tr>\n",
       "      <th>F</th>\n",
       "      <td>83664.160920</td>\n",
       "      <td>85676.207650</td>\n",
       "      <td>F</td>\n",
       "    </tr>\n",
       "    <tr>\n",
       "      <th>G</th>\n",
       "      <td>79981.017544</td>\n",
       "      <td>111594.294118</td>\n",
       "      <td>G</td>\n",
       "    </tr>\n",
       "  </tbody>\n",
       "</table>\n",
       "</div>"
      ],
      "text/plain": [
       "loan_status   Charged Off     Fully Paid grade\n",
       "grade                                         \n",
       "A            54627.197368   70127.679939     A\n",
       "B            60440.029525   70437.940219     B\n",
       "C            60488.662202   72809.666764     C\n",
       "D            63862.255613   72563.396496     D\n",
       "E            75638.415344   79777.064394     E\n",
       "F            83664.160920   85676.207650     F\n",
       "G            79981.017544  111594.294118     G"
      ]
     },
     "execution_count": 47,
     "metadata": {},
     "output_type": "execute_result"
    }
   ],
   "source": [
    "pt_grade_inc=loan_df.pivot_table(values='annual_inc', index='grade',columns='loan_status',aggfunc='mean')\n",
    "pt_grade_inc['grade'] = pt_grade.index\n",
    "pt_grade_inc"
   ]
  },
  {
   "cell_type": "code",
   "execution_count": 48,
   "id": "af06862f",
   "metadata": {},
   "outputs": [
    {
     "name": "stdout",
     "output_type": "stream",
     "text": [
      "68385.9626451822 80426.60708291542\n",
      "p-value 0.056426532072302964\n",
      "We fail to reject the null hypothesis\n"
     ]
    }
   ],
   "source": [
    "A =pt_grade_inc['Charged Off'] #H0: a>b\n",
    "B = pt_grade_inc['Fully Paid'] #H1: a<b\n",
    "print(A.mean(), B.mean())\n",
    "\n",
    "alpha = 0.05  # level of significance\n",
    "\n",
    "tstat, pval = stats.ttest_ind(a=A, b=B, alternative='less')\n",
    "print(\"p-value\", pval)\n",
    "\n",
    "if pval < alpha: \n",
    "    print(\"We reject the null hypothesis\")\n",
    "else:\n",
    "    print(\"We fail to reject the null hypothesis\")"
   ]
  },
  {
   "cell_type": "markdown",
   "id": "13e5b2b9",
   "metadata": {},
   "source": [
    "==> The hypothesis is also not confirmed that those borrowers who have a lower salary do not pay loans"
   ]
  },
  {
   "cell_type": "markdown",
   "id": "596e94db",
   "metadata": {},
   "source": [
    "==> The term of the loan, the rate, salary do not affect the repayment of loans. Given that the average loan amount and the number of loans have been growing strongly in recent years, while wages have been growing much slower, it can be assumed that DTI, which characterizes the credit load, plays a major role in forecasting repayment. After all, the lower the credit burden and the higher the borrower's income, the lower dti and lower dependence on loans. Accordingly, the probability that the loan will be paid is higher."
   ]
  },
  {
   "cell_type": "markdown",
   "id": "a9c70f3c",
   "metadata": {},
   "source": [
    "Let 's test the hypothesis that the lower the coefficient DTI, the higher the probability that the loan will be paid in full"
   ]
  },
  {
   "cell_type": "code",
   "execution_count": 148,
   "id": "8cb85273",
   "metadata": {},
   "outputs": [
    {
     "data": {
      "text/html": [
       "<div>\n",
       "<style scoped>\n",
       "    .dataframe tbody tr th:only-of-type {\n",
       "        vertical-align: middle;\n",
       "    }\n",
       "\n",
       "    .dataframe tbody tr th {\n",
       "        vertical-align: top;\n",
       "    }\n",
       "\n",
       "    .dataframe thead th {\n",
       "        text-align: right;\n",
       "    }\n",
       "</style>\n",
       "<table border=\"1\" class=\"dataframe\">\n",
       "  <thead>\n",
       "    <tr style=\"text-align: right;\">\n",
       "      <th></th>\n",
       "      <th>annual_inc</th>\n",
       "      <th>loan_amnt</th>\n",
       "      <th>loan_status</th>\n",
       "      <th>grade</th>\n",
       "      <th>dti</th>\n",
       "      <th>issue_year</th>\n",
       "    </tr>\n",
       "  </thead>\n",
       "  <tbody>\n",
       "    <tr>\n",
       "      <th>0</th>\n",
       "      <td>12252.0</td>\n",
       "      <td>2400</td>\n",
       "      <td>Fully Paid</td>\n",
       "      <td>C</td>\n",
       "      <td>8.72</td>\n",
       "      <td>2011</td>\n",
       "    </tr>\n",
       "    <tr>\n",
       "      <th>1</th>\n",
       "      <td>49200.0</td>\n",
       "      <td>10000</td>\n",
       "      <td>Fully Paid</td>\n",
       "      <td>C</td>\n",
       "      <td>20.00</td>\n",
       "      <td>2011</td>\n",
       "    </tr>\n",
       "    <tr>\n",
       "      <th>2</th>\n",
       "      <td>48000.0</td>\n",
       "      <td>3000</td>\n",
       "      <td>Fully Paid</td>\n",
       "      <td>E</td>\n",
       "      <td>5.35</td>\n",
       "      <td>2011</td>\n",
       "    </tr>\n",
       "    <tr>\n",
       "      <th>3</th>\n",
       "      <td>40000.0</td>\n",
       "      <td>5600</td>\n",
       "      <td>Charged Off</td>\n",
       "      <td>F</td>\n",
       "      <td>5.55</td>\n",
       "      <td>2011</td>\n",
       "    </tr>\n",
       "    <tr>\n",
       "      <th>4</th>\n",
       "      <td>15000.0</td>\n",
       "      <td>5375</td>\n",
       "      <td>Charged Off</td>\n",
       "      <td>B</td>\n",
       "      <td>18.08</td>\n",
       "      <td>2011</td>\n",
       "    </tr>\n",
       "    <tr>\n",
       "      <th>...</th>\n",
       "      <td>...</td>\n",
       "      <td>...</td>\n",
       "      <td>...</td>\n",
       "      <td>...</td>\n",
       "      <td>...</td>\n",
       "      <td>...</td>\n",
       "    </tr>\n",
       "    <tr>\n",
       "      <th>19903</th>\n",
       "      <td>250000.0</td>\n",
       "      <td>5000</td>\n",
       "      <td>Fully Paid</td>\n",
       "      <td>B</td>\n",
       "      <td>10.00</td>\n",
       "      <td>2007</td>\n",
       "    </tr>\n",
       "    <tr>\n",
       "      <th>19904</th>\n",
       "      <td>13500.0</td>\n",
       "      <td>3500</td>\n",
       "      <td>Fully Paid</td>\n",
       "      <td>B</td>\n",
       "      <td>16.44</td>\n",
       "      <td>2007</td>\n",
       "    </tr>\n",
       "    <tr>\n",
       "      <th>19905</th>\n",
       "      <td>48000.0</td>\n",
       "      <td>25000</td>\n",
       "      <td>Fully Paid</td>\n",
       "      <td>C</td>\n",
       "      <td>4.05</td>\n",
       "      <td>2007</td>\n",
       "    </tr>\n",
       "    <tr>\n",
       "      <th>19906</th>\n",
       "      <td>200000.0</td>\n",
       "      <td>3000</td>\n",
       "      <td>Fully Paid</td>\n",
       "      <td>C</td>\n",
       "      <td>0.00</td>\n",
       "      <td>2007</td>\n",
       "    </tr>\n",
       "    <tr>\n",
       "      <th>19907</th>\n",
       "      <td>48000.0</td>\n",
       "      <td>5000</td>\n",
       "      <td>Fully Paid</td>\n",
       "      <td>B</td>\n",
       "      <td>8.03</td>\n",
       "      <td>2007</td>\n",
       "    </tr>\n",
       "  </tbody>\n",
       "</table>\n",
       "<p>19908 rows × 6 columns</p>\n",
       "</div>"
      ],
      "text/plain": [
       "       annual_inc  loan_amnt  loan_status grade    dti  issue_year\n",
       "0         12252.0       2400   Fully Paid     C   8.72        2011\n",
       "1         49200.0      10000   Fully Paid     C  20.00        2011\n",
       "2         48000.0       3000   Fully Paid     E   5.35        2011\n",
       "3         40000.0       5600  Charged Off     F   5.55        2011\n",
       "4         15000.0       5375  Charged Off     B  18.08        2011\n",
       "...           ...        ...          ...   ...    ...         ...\n",
       "19903    250000.0       5000   Fully Paid     B  10.00        2007\n",
       "19904     13500.0       3500   Fully Paid     B  16.44        2007\n",
       "19905     48000.0      25000   Fully Paid     C   4.05        2007\n",
       "19906    200000.0       3000   Fully Paid     C   0.00        2007\n",
       "19907     48000.0       5000   Fully Paid     B   8.03        2007\n",
       "\n",
       "[19908 rows x 6 columns]"
      ]
     },
     "execution_count": 148,
     "metadata": {},
     "output_type": "execute_result"
    }
   ],
   "source": [
    "loan_df2= pd.DataFrame(loan_df, columns=['annual_inc', 'loan_amnt', 'loan_status','grade','dti','issue_year']) \n",
    "loan_df2"
   ]
  },
  {
   "cell_type": "code",
   "execution_count": 149,
   "id": "722d24f7",
   "metadata": {},
   "outputs": [
    {
     "data": {
      "text/plain": [
       "72261.02481579722"
      ]
     },
     "execution_count": 149,
     "metadata": {},
     "output_type": "execute_result"
    }
   ],
   "source": [
    "loan_df2[loan_df2['loan_status']=='Fully Paid']['annual_inc'].mean()"
   ]
  },
  {
   "cell_type": "code",
   "execution_count": 150,
   "id": "41593121",
   "metadata": {},
   "outputs": [
    {
     "data": {
      "text/plain": [
       "64227.61841658172"
      ]
     },
     "execution_count": 150,
     "metadata": {},
     "output_type": "execute_result"
    }
   ],
   "source": [
    "loan_df2[loan_df2['loan_status']=='Charged Off']['annual_inc'].mean()"
   ]
  },
  {
   "cell_type": "code",
   "execution_count": 52,
   "id": "56126f43",
   "metadata": {},
   "outputs": [
    {
     "data": {
      "text/plain": [
       "<AxesSubplot:>"
      ]
     },
     "execution_count": 52,
     "metadata": {},
     "output_type": "execute_result"
    },
    {
     "data": {
      "image/png": "[encoded data removed]",
      "text/plain": [
       "<Figure size 432x288 with 1 Axes>"
      ]
     },
     "metadata": {
      "needs_background": "light"
     },
     "output_type": "display_data"
    }
   ],
   "source": [
    "loan_df2.dti.hist(edgecolor='black', alpha=0.5)"
   ]
  },
  {
   "cell_type": "code",
   "execution_count": null,
   "id": "13aa8b4e",
   "metadata": {},
   "outputs": [],
   "source": [
    "loan_df3=pd.DataFrame(loan_df, columns=['annual_inc', 'loan_amnt', 'loan_status','term']) \n",
    "loan_df3"
   ]
  },
  {
   "cell_type": "code",
   "execution_count": null,
   "id": "dbd88593",
   "metadata": {},
   "outputs": [],
   "source": [
    "A = (loan_df2[loan_df2['loan_status']=='Fully Paid'])['dti'] #H0: A>B\n",
    "B =(loan_df2[loan_df2['loan_status']=='Charged Off'])['dti'] #H1: A<B\n",
    "print(A.mean(), B.mean())\n",
    "\n",
    "alpha = 0.05  # level of significance\n",
    "\n",
    "tstat, pval = stats.ttest_ind(a=A, b=B, alternative='less')\n",
    "print(\"p-value\", pval)\n",
    "\n",
    "if pval < alpha: \n",
    "    print(\"We reject the null hypothesis\")\n",
    "else:\n",
    "    print(\"We fail to reject the null hypothesis\")"
   ]
  },
  {
   "cell_type": "code",
   "execution_count": 53,
   "id": "014876fa",
   "metadata": {},
   "outputs": [
    {
     "data": {
      "text/plain": [
       "12.901124668435008"
      ]
     },
     "execution_count": 53,
     "metadata": {},
     "output_type": "execute_result"
    }
   ],
   "source": [
    "loan_df2[loan_df2['loan_status']=='Fully Paid']['dti'].mean()"
   ]
  },
  {
   "cell_type": "code",
   "execution_count": 54,
   "id": "943561a4",
   "metadata": {},
   "outputs": [
    {
     "data": {
      "text/plain": [
       "13.62827047230716"
      ]
     },
     "execution_count": 54,
     "metadata": {},
     "output_type": "execute_result"
    }
   ],
   "source": [
    "loan_df2[loan_df2['loan_status']=='Charged Off']['dti'].mean()"
   ]
  },
  {
   "cell_type": "code",
   "execution_count": 55,
   "id": "1d3b0a59",
   "metadata": {},
   "outputs": [
    {
     "name": "stdout",
     "output_type": "stream",
     "text": [
      "12.901124668435008 13.62827047230716\n",
      "p-value 2.294340765203667e-08\n",
      "We reject the null hypothesis\n"
     ]
    }
   ],
   "source": [
    "A = (loan_df2[loan_df2['loan_status']=='Fully Paid'])['dti'] #H0: A>B\n",
    "B =(loan_df2[loan_df2['loan_status']=='Charged Off'])['dti'] #H1: A<B\n",
    "print(A.mean(), B.mean())\n",
    "\n",
    "alpha = 0.05  # level of significance\n",
    "\n",
    "tstat, pval = stats.ttest_ind(a=A, b=B, alternative='less')\n",
    "print(\"p-value\", pval)\n",
    "\n",
    "if pval < alpha: \n",
    "    print(\"We reject the null hypothesis\")\n",
    "else:\n",
    "    print(\"We fail to reject the null hypothesis\")"
   ]
  },
  {
   "cell_type": "markdown",
   "id": "e75e0ca9",
   "metadata": {},
   "source": [
    "==> Then, it can be argued that the less dependence on credit funds - the ratio of borrowed funds to own, the better the repayment of the loan"
   ]
  },
  {
   "cell_type": "code",
   "execution_count": 143,
   "id": "8ccec4dc",
   "metadata": {},
   "outputs": [],
   "source": [
    "loan_df['revol_util'].fillna(loan_df['revol_util'].mean(),inplace=True)\n",
    "#Fill missing values in revol_util (Revolving line utilization rate, or the amount) \n",
    "#with the mean value of the column in loan_df."
   ]
  },
  {
   "cell_type": "code",
   "execution_count": 144,
   "id": "8d502da0",
   "metadata": {},
   "outputs": [],
   "source": [
    "loan_df['pub_rec_bankruptcies'].fillna(0, inplace=True)\n",
    "#Fill missing values in pub_rec_bankruptcies with 0 (which is the mode of the column) in loan_df."
   ]
  },
  {
   "cell_type": "code",
   "execution_count": 145,
   "id": "59ab8901",
   "metadata": {},
   "outputs": [
    {
     "data": {
      "text/plain": [
       "0"
      ]
     },
     "execution_count": 145,
     "metadata": {},
     "output_type": "execute_result"
    }
   ],
   "source": [
    "loan_df['revol_util'].isnull().sum()"
   ]
  },
  {
   "cell_type": "code",
   "execution_count": 146,
   "id": "32d0cabb",
   "metadata": {},
   "outputs": [
    {
     "data": {
      "text/plain": [
       "0"
      ]
     },
     "execution_count": 146,
     "metadata": {},
     "output_type": "execute_result"
    }
   ],
   "source": [
    "loan_df['pub_rec_bankruptcies'].isnull().sum()"
   ]
  },
  {
   "cell_type": "markdown",
   "id": "256ba25f",
   "metadata": {},
   "source": [
    "==> Well, it is safe to say that dti has a direct impact on the repayment of loans, other values, such as salary, class, rate, also have an impact on the repayment of loans to one degree or another. Thus, all these variables should be taken into account when building a credit forecasting model."
   ]
  },
  {
   "cell_type": "markdown",
   "id": "ec5f985d",
   "metadata": {},
   "source": [
    "I explored the relationship between following categorical features and repaid."
   ]
  },
  {
   "cell_type": "code",
   "execution_count": 58,
   "id": "be460fe7",
   "metadata": {},
   "outputs": [
    {
     "data": {
      "text/plain": [
       "Fully Paid     16965\n",
       "Charged Off     2943\n",
       "Name: loan_status, dtype: int64"
      ]
     },
     "execution_count": 58,
     "metadata": {},
     "output_type": "execute_result"
    }
   ],
   "source": [
    "loan_df.loan_status.value_counts()"
   ]
  },
  {
   "cell_type": "code",
   "execution_count": 147,
   "id": "8c58e959",
   "metadata": {},
   "outputs": [
    {
     "data": {
      "text/plain": [
       "1    16965\n",
       "0     2943\n",
       "Name: repaid, dtype: int64"
      ]
     },
     "execution_count": 147,
     "metadata": {},
     "output_type": "execute_result"
    }
   ],
   "source": [
    "mapping_dict = {'Charged Off':0, 'Fully Paid':1}\n",
    "loan_df['repaid'] = loan_df.loan_status.map(mapping_dict)\n",
    "loan_df.repaid.value_counts()"
   ]
  },
  {
   "cell_type": "code",
   "execution_count": 148,
   "id": "8d9be5fb",
   "metadata": {},
   "outputs": [
    {
     "data": {
      "text/plain": [
       "0.8521699819168174"
      ]
     },
     "execution_count": 148,
     "metadata": {},
     "output_type": "execute_result"
    }
   ],
   "source": [
    "loan_df.repaid.mean()"
   ]
  },
  {
   "cell_type": "code",
   "execution_count": 149,
   "id": "867f0fca",
   "metadata": {},
   "outputs": [
    {
     "data": {
      "text/html": [
       "<div>\n",
       "<style scoped>\n",
       "    .dataframe tbody tr th:only-of-type {\n",
       "        vertical-align: middle;\n",
       "    }\n",
       "\n",
       "    .dataframe tbody tr th {\n",
       "        vertical-align: top;\n",
       "    }\n",
       "\n",
       "    .dataframe thead th {\n",
       "        text-align: right;\n",
       "    }\n",
       "</style>\n",
       "<table border=\"1\" class=\"dataframe\">\n",
       "  <thead>\n",
       "    <tr style=\"text-align: right;\">\n",
       "      <th></th>\n",
       "      <th>repaid</th>\n",
       "      <th>issue_d</th>\n",
       "    </tr>\n",
       "    <tr>\n",
       "      <th>loan_term_year</th>\n",
       "      <th></th>\n",
       "      <th></th>\n",
       "    </tr>\n",
       "  </thead>\n",
       "  <tbody>\n",
       "    <tr>\n",
       "      <th>5</th>\n",
       "      <td>0.759691</td>\n",
       "      <td>5056</td>\n",
       "    </tr>\n",
       "    <tr>\n",
       "      <th>3</th>\n",
       "      <td>0.883652</td>\n",
       "      <td>14852</td>\n",
       "    </tr>\n",
       "  </tbody>\n",
       "</table>\n",
       "</div>"
      ],
      "text/plain": [
       "                  repaid  issue_d\n",
       "loan_term_year                   \n",
       "5               0.759691     5056\n",
       "3               0.883652    14852"
      ]
     },
     "execution_count": 149,
     "metadata": {},
     "output_type": "execute_result"
    }
   ],
   "source": [
    "mapping_dict = {'36 months':3, '60 months':5}\n",
    "loan_df['loan_term_year']=loan_df.term.map(mapping_dict)\n",
    "loan_df.loan_term_year.value_counts()\n",
    "loan_df.groupby('loan_term_year').agg({'repaid':'mean', 'issue_d':'count'}).sort_values(by='repaid')"
   ]
  },
  {
   "cell_type": "code",
   "execution_count": 150,
   "id": "a642a367",
   "metadata": {},
   "outputs": [
    {
     "data": {
      "text/html": [
       "<div>\n",
       "<style scoped>\n",
       "    .dataframe tbody tr th:only-of-type {\n",
       "        vertical-align: middle;\n",
       "    }\n",
       "\n",
       "    .dataframe tbody tr th {\n",
       "        vertical-align: top;\n",
       "    }\n",
       "\n",
       "    .dataframe thead th {\n",
       "        text-align: right;\n",
       "    }\n",
       "</style>\n",
       "<table border=\"1\" class=\"dataframe\">\n",
       "  <thead>\n",
       "    <tr style=\"text-align: right;\">\n",
       "      <th></th>\n",
       "      <th>repaid</th>\n",
       "      <th>issue_d</th>\n",
       "    </tr>\n",
       "    <tr>\n",
       "      <th>purpose</th>\n",
       "      <th></th>\n",
       "      <th></th>\n",
       "    </tr>\n",
       "  </thead>\n",
       "  <tbody>\n",
       "    <tr>\n",
       "      <th>small_business</th>\n",
       "      <td>0.728177</td>\n",
       "      <td>905</td>\n",
       "    </tr>\n",
       "    <tr>\n",
       "      <th>educational</th>\n",
       "      <td>0.801242</td>\n",
       "      <td>161</td>\n",
       "    </tr>\n",
       "    <tr>\n",
       "      <th>house</th>\n",
       "      <td>0.823864</td>\n",
       "      <td>176</td>\n",
       "    </tr>\n",
       "    <tr>\n",
       "      <th>moving</th>\n",
       "      <td>0.829653</td>\n",
       "      <td>317</td>\n",
       "    </tr>\n",
       "    <tr>\n",
       "      <th>other</th>\n",
       "      <td>0.843689</td>\n",
       "      <td>2060</td>\n",
       "    </tr>\n",
       "    <tr>\n",
       "      <th>debt_consolidation</th>\n",
       "      <td>0.845670</td>\n",
       "      <td>9389</td>\n",
       "    </tr>\n",
       "    <tr>\n",
       "      <th>medical</th>\n",
       "      <td>0.854286</td>\n",
       "      <td>350</td>\n",
       "    </tr>\n",
       "    <tr>\n",
       "      <th>vacation</th>\n",
       "      <td>0.859296</td>\n",
       "      <td>199</td>\n",
       "    </tr>\n",
       "    <tr>\n",
       "      <th>renewable_energy</th>\n",
       "      <td>0.862745</td>\n",
       "      <td>51</td>\n",
       "    </tr>\n",
       "    <tr>\n",
       "      <th>home_improvement</th>\n",
       "      <td>0.875188</td>\n",
       "      <td>1330</td>\n",
       "    </tr>\n",
       "    <tr>\n",
       "      <th>credit_card</th>\n",
       "      <td>0.885757</td>\n",
       "      <td>2696</td>\n",
       "    </tr>\n",
       "    <tr>\n",
       "      <th>major_purchase</th>\n",
       "      <td>0.887405</td>\n",
       "      <td>1048</td>\n",
       "    </tr>\n",
       "    <tr>\n",
       "      <th>car</th>\n",
       "      <td>0.892285</td>\n",
       "      <td>687</td>\n",
       "    </tr>\n",
       "    <tr>\n",
       "      <th>wedding</th>\n",
       "      <td>0.894249</td>\n",
       "      <td>539</td>\n",
       "    </tr>\n",
       "  </tbody>\n",
       "</table>\n",
       "</div>"
      ],
      "text/plain": [
       "                      repaid  issue_d\n",
       "purpose                              \n",
       "small_business      0.728177      905\n",
       "educational         0.801242      161\n",
       "house               0.823864      176\n",
       "moving              0.829653      317\n",
       "other               0.843689     2060\n",
       "debt_consolidation  0.845670     9389\n",
       "medical             0.854286      350\n",
       "vacation            0.859296      199\n",
       "renewable_energy    0.862745       51\n",
       "home_improvement    0.875188     1330\n",
       "credit_card         0.885757     2696\n",
       "major_purchase      0.887405     1048\n",
       "car                 0.892285      687\n",
       "wedding             0.894249      539"
      ]
     },
     "execution_count": 150,
     "metadata": {},
     "output_type": "execute_result"
    }
   ],
   "source": [
    "#relationship between purpose and repaid rate\n",
    "loan_df.groupby('purpose').agg({'repaid':'mean', 'issue_d':'count'}).sort_values(by='repaid')"
   ]
  },
  {
   "cell_type": "code",
   "execution_count": 151,
   "id": "8379b854",
   "metadata": {},
   "outputs": [],
   "source": [
    "#encode purpose to create purpose_code\n",
    "from sklearn.preprocessing import LabelEncoder\n",
    "le = LabelEncoder()\n",
    "loan_df['purpose_code'] = le.fit_transform(loan_df.purpose)"
   ]
  },
  {
   "cell_type": "code",
   "execution_count": 153,
   "id": "0765dc27",
   "metadata": {},
   "outputs": [
    {
     "data": {
      "text/html": [
       "<div>\n",
       "<style scoped>\n",
       "    .dataframe tbody tr th:only-of-type {\n",
       "        vertical-align: middle;\n",
       "    }\n",
       "\n",
       "    .dataframe tbody tr th {\n",
       "        vertical-align: top;\n",
       "    }\n",
       "\n",
       "    .dataframe thead th {\n",
       "        text-align: right;\n",
       "    }\n",
       "</style>\n",
       "<table border=\"1\" class=\"dataframe\">\n",
       "  <thead>\n",
       "    <tr style=\"text-align: right;\">\n",
       "      <th></th>\n",
       "      <th>repaid</th>\n",
       "      <th>issue_d</th>\n",
       "    </tr>\n",
       "    <tr>\n",
       "      <th>grade</th>\n",
       "      <th></th>\n",
       "      <th></th>\n",
       "    </tr>\n",
       "  </thead>\n",
       "  <tbody>\n",
       "    <tr>\n",
       "      <th>G</th>\n",
       "      <td>0.641509</td>\n",
       "      <td>159</td>\n",
       "    </tr>\n",
       "    <tr>\n",
       "      <th>F</th>\n",
       "      <td>0.677778</td>\n",
       "      <td>540</td>\n",
       "    </tr>\n",
       "    <tr>\n",
       "      <th>E</th>\n",
       "      <td>0.736402</td>\n",
       "      <td>1434</td>\n",
       "    </tr>\n",
       "    <tr>\n",
       "      <th>D</th>\n",
       "      <td>0.789301</td>\n",
       "      <td>2748</td>\n",
       "    </tr>\n",
       "    <tr>\n",
       "      <th>C</th>\n",
       "      <td>0.835576</td>\n",
       "      <td>4087</td>\n",
       "    </tr>\n",
       "    <tr>\n",
       "      <th>B</th>\n",
       "      <td>0.871558</td>\n",
       "      <td>6065</td>\n",
       "    </tr>\n",
       "    <tr>\n",
       "      <th>A</th>\n",
       "      <td>0.937641</td>\n",
       "      <td>4875</td>\n",
       "    </tr>\n",
       "  </tbody>\n",
       "</table>\n",
       "</div>"
      ],
      "text/plain": [
       "         repaid  issue_d\n",
       "grade                   \n",
       "G      0.641509      159\n",
       "F      0.677778      540\n",
       "E      0.736402     1434\n",
       "D      0.789301     2748\n",
       "C      0.835576     4087\n",
       "B      0.871558     6065\n",
       "A      0.937641     4875"
      ]
     },
     "execution_count": 153,
     "metadata": {},
     "output_type": "execute_result"
    }
   ],
   "source": [
    "#relationship between grade and repaid rate, encode grade to create grade_code\n",
    "loan_df.groupby('grade').agg({'repaid':'mean', 'issue_d':'count'}).sort_values(by='repaid')"
   ]
  },
  {
   "cell_type": "code",
   "execution_count": 154,
   "id": "22ef390d",
   "metadata": {},
   "outputs": [],
   "source": [
    "le = LabelEncoder()\n",
    "loan_df['grade_code'] = le.fit_transform(loan_df.grade)"
   ]
  },
  {
   "cell_type": "code",
   "execution_count": 155,
   "id": "783550ed",
   "metadata": {},
   "outputs": [
    {
     "data": {
      "text/html": [
       "<div>\n",
       "<style scoped>\n",
       "    .dataframe tbody tr th:only-of-type {\n",
       "        vertical-align: middle;\n",
       "    }\n",
       "\n",
       "    .dataframe tbody tr th {\n",
       "        vertical-align: top;\n",
       "    }\n",
       "\n",
       "    .dataframe thead th {\n",
       "        text-align: right;\n",
       "    }\n",
       "</style>\n",
       "<table border=\"1\" class=\"dataframe\">\n",
       "  <thead>\n",
       "    <tr style=\"text-align: right;\">\n",
       "      <th></th>\n",
       "      <th>repaid</th>\n",
       "      <th>issue_d</th>\n",
       "    </tr>\n",
       "    <tr>\n",
       "      <th>home_ownership</th>\n",
       "      <th></th>\n",
       "      <th></th>\n",
       "    </tr>\n",
       "  </thead>\n",
       "  <tbody>\n",
       "    <tr>\n",
       "      <th>OTHER</th>\n",
       "      <td>0.818182</td>\n",
       "      <td>44</td>\n",
       "    </tr>\n",
       "    <tr>\n",
       "      <th>OWN</th>\n",
       "      <td>0.841527</td>\n",
       "      <td>1546</td>\n",
       "    </tr>\n",
       "    <tr>\n",
       "      <th>RENT</th>\n",
       "      <td>0.847620</td>\n",
       "      <td>10966</td>\n",
       "    </tr>\n",
       "    <tr>\n",
       "      <th>MORTGAGE</th>\n",
       "      <td>0.861379</td>\n",
       "      <td>7351</td>\n",
       "    </tr>\n",
       "    <tr>\n",
       "      <th>NONE</th>\n",
       "      <td>1.000000</td>\n",
       "      <td>1</td>\n",
       "    </tr>\n",
       "  </tbody>\n",
       "</table>\n",
       "</div>"
      ],
      "text/plain": [
       "                  repaid  issue_d\n",
       "home_ownership                   \n",
       "OTHER           0.818182       44\n",
       "OWN             0.841527     1546\n",
       "RENT            0.847620    10966\n",
       "MORTGAGE        0.861379     7351\n",
       "NONE            1.000000        1"
      ]
     },
     "execution_count": 155,
     "metadata": {},
     "output_type": "execute_result"
    }
   ],
   "source": [
    "#relationship between home_ownership and repaid rate, encode home_ownership to home_ownership_code\n",
    "loan_df.groupby('home_ownership').agg({'repaid':'mean', 'issue_d':'count'}).sort_values(by='repaid')"
   ]
  },
  {
   "cell_type": "code",
   "execution_count": 156,
   "id": "5bd4ffbe",
   "metadata": {},
   "outputs": [],
   "source": [
    "le = LabelEncoder()\n",
    "loan_df['home_ownership_code'] = le.fit_transform(loan_df.home_ownership)"
   ]
  },
  {
   "cell_type": "code",
   "execution_count": 157,
   "id": "436c0728",
   "metadata": {},
   "outputs": [
    {
     "data": {
      "text/html": [
       "<div>\n",
       "<style scoped>\n",
       "    .dataframe tbody tr th:only-of-type {\n",
       "        vertical-align: middle;\n",
       "    }\n",
       "\n",
       "    .dataframe tbody tr th {\n",
       "        vertical-align: top;\n",
       "    }\n",
       "\n",
       "    .dataframe thead th {\n",
       "        text-align: right;\n",
       "    }\n",
       "</style>\n",
       "<table border=\"1\" class=\"dataframe\">\n",
       "  <thead>\n",
       "    <tr style=\"text-align: right;\">\n",
       "      <th></th>\n",
       "      <th>repaid</th>\n",
       "      <th>issue_d</th>\n",
       "    </tr>\n",
       "    <tr>\n",
       "      <th>addr_state</th>\n",
       "      <th></th>\n",
       "      <th></th>\n",
       "    </tr>\n",
       "  </thead>\n",
       "  <tbody>\n",
       "    <tr>\n",
       "      <th>FL</th>\n",
       "      <td>0.822772</td>\n",
       "      <td>2872</td>\n",
       "    </tr>\n",
       "    <tr>\n",
       "      <th>CA</th>\n",
       "      <td>0.840816</td>\n",
       "      <td>7105</td>\n",
       "    </tr>\n",
       "    <tr>\n",
       "      <th>NJ</th>\n",
       "      <td>0.847978</td>\n",
       "      <td>1855</td>\n",
       "    </tr>\n",
       "    <tr>\n",
       "      <th>NY</th>\n",
       "      <td>0.868745</td>\n",
       "      <td>3817</td>\n",
       "    </tr>\n",
       "    <tr>\n",
       "      <th>IL</th>\n",
       "      <td>0.870164</td>\n",
       "      <td>1525</td>\n",
       "    </tr>\n",
       "    <tr>\n",
       "      <th>TX</th>\n",
       "      <td>0.882224</td>\n",
       "      <td>2734</td>\n",
       "    </tr>\n",
       "  </tbody>\n",
       "</table>\n",
       "</div>"
      ],
      "text/plain": [
       "              repaid  issue_d\n",
       "addr_state                   \n",
       "FL          0.822772     2872\n",
       "CA          0.840816     7105\n",
       "NJ          0.847978     1855\n",
       "NY          0.868745     3817\n",
       "IL          0.870164     1525\n",
       "TX          0.882224     2734"
      ]
     },
     "execution_count": 157,
     "metadata": {},
     "output_type": "execute_result"
    }
   ],
   "source": [
    "#relationship between addr_state and repaid rate, encode addr_state to addr_state_code\n",
    "loan_df.groupby('addr_state').agg({'repaid':'mean', 'issue_d':'count'}).sort_values(by='repaid')"
   ]
  },
  {
   "cell_type": "code",
   "execution_count": 158,
   "id": "bea31610",
   "metadata": {},
   "outputs": [],
   "source": [
    "le = LabelEncoder()\n",
    "loan_df['addr_state_code'] = le.fit_transform(loan_df.addr_state)"
   ]
  },
  {
   "cell_type": "code",
   "execution_count": 159,
   "id": "395dfe5d",
   "metadata": {},
   "outputs": [],
   "source": [
    "from sklearn.linear_model import LogisticRegression\n",
    "from sklearn.neighbors import KNeighborsClassifier\n",
    "from sklearn.tree import DecisionTreeClassifier\n",
    "from sklearn.ensemble import RandomForestClassifier\n",
    "from sklearn.svm import SVC\n",
    "from sklearn.neural_network import MLPClassifier\n",
    "from sklearn.naive_bayes import GaussianNB\n",
    "from sklearn.naive_bayes import MultinomialNB"
   ]
  },
  {
   "cell_type": "code",
   "execution_count": 160,
   "id": "d22cd0ab",
   "metadata": {},
   "outputs": [
    {
     "data": {
      "text/plain": [
       "<bound method NDFrame.describe of 0        0.0\n",
       "1        0.0\n",
       "2        0.0\n",
       "3        0.0\n",
       "4        0.0\n",
       "        ... \n",
       "19903    0.0\n",
       "19904    0.0\n",
       "19905    0.0\n",
       "19906    0.0\n",
       "19907    0.0\n",
       "Name: pub_rec_bankruptcies, Length: 19908, dtype: float64>"
      ]
     },
     "execution_count": 160,
     "metadata": {},
     "output_type": "execute_result"
    }
   ],
   "source": [
    "loan_df['pub_rec_bankruptcies'].describe"
   ]
  },
  {
   "cell_type": "code",
   "execution_count": 173,
   "id": "4d2c9b5c",
   "metadata": {},
   "outputs": [],
   "source": [
    "features = ['purpose_code','grade_code','dti','annual_inc', \n",
    "            'int_rate','loan_term_year','revol_util','pub_rec_bankruptcies', 'total_pymnt','funded_amnt']\n",
    "target = 'repaid'"
   ]
  },
  {
   "cell_type": "code",
   "execution_count": 174,
   "id": "9fb8e89f",
   "metadata": {},
   "outputs": [
    {
     "data": {
      "text/plain": [
       "((19908, 10), (19908,))"
      ]
     },
     "execution_count": 174,
     "metadata": {},
     "output_type": "execute_result"
    }
   ],
   "source": [
    "X = loan_df[features]\n",
    "y =loan_df[target]\n",
    "X.shape, y.shape"
   ]
  },
  {
   "cell_type": "code",
   "execution_count": 175,
   "id": "9597437d",
   "metadata": {},
   "outputs": [],
   "source": [
    "from sklearn.preprocessing import MinMaxScaler\n",
    "from sklearn.model_selection import train_test_split\n",
    "from sklearn.metrics import accuracy_score, confusion_matrix, classification_report"
   ]
  },
  {
   "cell_type": "code",
   "execution_count": 176,
   "id": "f4b3b7c9",
   "metadata": {},
   "outputs": [],
   "source": [
    "from sklearn.linear_model import LogisticRegression\n",
    "from sklearn.neighbors import KNeighborsClassifier\n",
    "from sklearn.tree import DecisionTreeClassifier\n",
    "from sklearn.ensemble import RandomForestClassifier\n",
    "from sklearn.svm import SVC\n",
    "from sklearn.neural_network import MLPClassifier\n",
    "from sklearn.naive_bayes import GaussianNB\n",
    "from sklearn.naive_bayes import MultinomialNB"
   ]
  },
  {
   "cell_type": "code",
   "execution_count": 177,
   "id": "26d4be4e",
   "metadata": {},
   "outputs": [
    {
     "data": {
      "text/plain": [
       "(19908, 10)"
      ]
     },
     "execution_count": 177,
     "metadata": {},
     "output_type": "execute_result"
    }
   ],
   "source": [
    "scaler = MinMaxScaler()\n",
    "X_scaled = scaler.fit_transform(X)\n",
    "X_scaled.shape"
   ]
  },
  {
   "cell_type": "code",
   "execution_count": 178,
   "id": "64ee5cc8",
   "metadata": {},
   "outputs": [
    {
     "name": "stdout",
     "output_type": "stream",
     "text": [
      "Train dataset: (11944, 10)(11944,)\n",
      "Test dataset: (7964, 10)(7964,)\n"
     ]
    }
   ],
   "source": [
    "X_train, X_test, y_train, y_test = train_test_split(X_scaled, y, test_size=.4, \n",
    "                                                    random_state=22)\n",
    "print(\"Train dataset: {0}{1}\".format(X_train.shape, y_train.shape))\n",
    "print(\"Test dataset: {0}{1}\" .format(X_test.shape, y_test.shape))"
   ]
  },
  {
   "cell_type": "code",
   "execution_count": 197,
   "id": "1092efa4",
   "metadata": {},
   "outputs": [
    {
     "data": {
      "text/plain": [
       "0.9267955801104972"
      ]
     },
     "execution_count": 197,
     "metadata": {},
     "output_type": "execute_result"
    }
   ],
   "source": [
    "clf = LogisticRegression()\n",
    "clf.fit(X_train, y_train)\n",
    "y_pred = clf.predict(X_test)\n",
    "acc = accuracy_score(y_test, y_pred)\n",
    "acc"
   ]
  },
  {
   "cell_type": "code",
   "execution_count": 180,
   "id": "19f6f98f",
   "metadata": {},
   "outputs": [
    {
     "data": {
      "text/plain": [
       "array([[ 602,  581],\n",
       "       [   2, 6779]], dtype=int64)"
      ]
     },
     "execution_count": 180,
     "metadata": {},
     "output_type": "execute_result"
    }
   ],
   "source": [
    "confusion_matrix(y_test, y_pred)"
   ]
  },
  {
   "cell_type": "code",
   "execution_count": 181,
   "id": "52b57e69",
   "metadata": {},
   "outputs": [
    {
     "name": "stdout",
     "output_type": "stream",
     "text": [
      "              precision    recall  f1-score   support\n",
      "\n",
      "           0       1.00      0.51      0.67      1183\n",
      "           1       0.92      1.00      0.96      6781\n",
      "\n",
      "    accuracy                           0.93      7964\n",
      "   macro avg       0.96      0.75      0.82      7964\n",
      "weighted avg       0.93      0.93      0.92      7964\n",
      "\n"
     ]
    }
   ],
   "source": [
    "rep = classification_report(y_test, y_pred)\n",
    "print(rep)"
   ]
  },
  {
   "cell_type": "code",
   "execution_count": 192,
   "id": "be427781",
   "metadata": {},
   "outputs": [
    {
     "name": "stdout",
     "output_type": "stream",
     "text": [
      "[[ 412  771]\n",
      " [ 139 6642]]\n",
      "              precision    recall  f1-score   support\n",
      "\n",
      "           0       0.75      0.35      0.48      1183\n",
      "           1       0.90      0.98      0.94      6781\n",
      "\n",
      "    accuracy                           0.89      7964\n",
      "   macro avg       0.82      0.66      0.71      7964\n",
      "weighted avg       0.87      0.89      0.87      7964\n",
      "\n"
     ]
    },
    {
     "data": {
      "text/plain": [
       "0.8857358111501757"
      ]
     },
     "execution_count": 192,
     "metadata": {},
     "output_type": "execute_result"
    }
   ],
   "source": [
    "clf = KNeighborsClassifier(n_neighbors=3)\n",
    "clf.fit(X_train, y_train)\n",
    "y_pred = clf.predict(X_test)\n",
    "print(confusion_matrix(y_test, y_pred))\n",
    "rep = classification_report(y_test, y_pred)\n",
    "print(rep)\n",
    "clf.score(X_test, y_test)"
   ]
  },
  {
   "cell_type": "code",
   "execution_count": 193,
   "id": "055bc861",
   "metadata": {},
   "outputs": [
    {
     "name": "stdout",
     "output_type": "stream",
     "text": [
      "[[ 999  184]\n",
      " [ 213 6568]]\n",
      "              precision    recall  f1-score   support\n",
      "\n",
      "           0       0.82      0.84      0.83      1183\n",
      "           1       0.97      0.97      0.97      6781\n",
      "\n",
      "    accuracy                           0.95      7964\n",
      "   macro avg       0.90      0.91      0.90      7964\n",
      "weighted avg       0.95      0.95      0.95      7964\n",
      "\n"
     ]
    },
    {
     "data": {
      "text/plain": [
       "0.9501506780512305"
      ]
     },
     "execution_count": 193,
     "metadata": {},
     "output_type": "execute_result"
    }
   ],
   "source": [
    "clf = DecisionTreeClassifier()\n",
    "clf.fit(X_train, y_train)\n",
    "y_pred = clf.predict(X_test)\n",
    "print(confusion_matrix(y_test, y_pred))\n",
    "rep = classification_report(y_test, y_pred)\n",
    "print(rep)\n",
    "clf.score(X_test, y_test)"
   ]
  },
  {
   "cell_type": "code",
   "execution_count": 194,
   "id": "561e2f7a",
   "metadata": {},
   "outputs": [
    {
     "name": "stdout",
     "output_type": "stream",
     "text": [
      "[[ 849  334]\n",
      " [  14 6767]]\n",
      "              precision    recall  f1-score   support\n",
      "\n",
      "           0       0.98      0.72      0.83      1183\n",
      "           1       0.95      1.00      0.97      6781\n",
      "\n",
      "    accuracy                           0.96      7964\n",
      "   macro avg       0.97      0.86      0.90      7964\n",
      "weighted avg       0.96      0.96      0.95      7964\n",
      "\n"
     ]
    },
    {
     "data": {
      "text/plain": [
       "0.9563033651431442"
      ]
     },
     "execution_count": 194,
     "metadata": {},
     "output_type": "execute_result"
    }
   ],
   "source": [
    "clf = RandomForestClassifier(n_estimators=100)\n",
    "clf.fit(X_train, y_train)\n",
    "y_pred = clf.predict(X_test)\n",
    "print(confusion_matrix(y_test, y_pred))\n",
    "rep = classification_report(y_test, y_pred)\n",
    "print(rep)\n",
    "clf.score(X_test, y_test)"
   ]
  },
  {
   "cell_type": "code",
   "execution_count": null,
   "id": "d3d4a397",
   "metadata": {},
   "outputs": [],
   "source": []
  }
 ],
 "metadata": {
  "kernelspec": {
   "display_name": "Python 3 (ipykernel)",
   "language": "python",
   "name": "python3"
  },
  "language_info": {
   "codemirror_mode": {
    "name": "ipython",
    "version": 3
   },
   "file_extension": ".py",
   "mimetype": "text/x-python",
   "name": "python",
   "nbconvert_exporter": "python",
   "pygments_lexer": "ipython3",
   "version": "3.9.7"
  }
 },
 "nbformat": 4,
 "nbformat_minor": 5
}
